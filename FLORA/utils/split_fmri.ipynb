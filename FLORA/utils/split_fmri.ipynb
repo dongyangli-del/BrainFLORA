{
 "cells": [
  {
   "cell_type": "markdown",
   "metadata": {},
   "source": [
    "# THINGS-fMRI usage notes"
   ]
  },
  {
   "cell_type": "markdown",
   "metadata": {},
   "source": [
    "For a detailed description of the data and the procedures that generated it, see [the THINGS-data preprint](https://doi.org/10.1101/2022.07.22.501123)."
   ]
  },
  {
   "cell_type": "code",
   "execution_count": 1,
   "metadata": {},
   "outputs": [],
   "source": [
    "# import os\n",
    "\n",
    "# training_images_dir = \"/home/ldy/fmri_dataset/images/train_images\"\n",
    "\n",
    "# def count_images(directory):\n",
    "#     total_dirs = 0\n",
    "#     total_images = 0\n",
    "\n",
    "\n",
    "#     for entry in os.listdir(directory):\n",
    "#         path = os.path.join(directory, entry)\n",
    "#         if os.path.isdir(path):\n",
    "#             total_dirs += 1\n",
    "\n",
    "#             total_images += len([file for file in os.listdir(path) if os.path.isfile(os.path.join(path, file))])\n",
    "\n",
    "#     return total_dirs, total_images\n",
    "\n",
    "# num_dirs, num_images = count_images(training_images_dir)\n",
    "\n",
    "# print(f\"There are {num_dirs} subdirectories in total\")\n",
    "# print(f\"All subdirectories together contain {num_images} images in total\")\n"
   ]
  },
  {
   "cell_type": "code",
   "execution_count": 2,
   "metadata": {},
   "outputs": [],
   "source": [
    "# import os\n",
    "\n",
    "# test_images_dir = \"/home/ldy/fmri_dataset/images/test_images\"\n",
    "\n",
    "# def count_images(directory):\n",
    "#     total_dirs = 0\n",
    "#     total_images = 0\n",
    "\n",
    "\n",
    "#     for entry in os.listdir(directory):\n",
    "#         path = os.path.join(directory, entry)\n",
    "#         if os.path.isdir(path):\n",
    "#             total_dirs += 1\n",
    "\n",
    "#             total_images += len([file for file in os.listdir(path) if os.path.isfile(os.path.join(path, file))])\n",
    "\n",
    "#     return total_dirs, total_images\n",
    "\n",
    "# num_dirs, num_images = count_images(test_images_dir)\n",
    "\n",
    "# print(f\"There are {num_dirs} subdirectories in total\")\n",
    "# print(f\"All subdirectories together contain {num_images} images in total\")\n"
   ]
  },
  {
   "cell_type": "code",
   "execution_count": null,
   "metadata": {},
   "outputs": [],
   "source": []
  },
  {
   "cell_type": "code",
   "execution_count": 3,
   "metadata": {
    "ExecuteTime": {
     "end_time": "2024-11-01T08:56:42.038495Z",
     "start_time": "2024-11-01T08:56:40.679969Z"
    }
   },
   "outputs": [],
   "source": [
    "from os.path import join as pjoin\n",
    "import glob\n",
    "import numpy as np\n",
    "import pandas as pd\n",
    "from nilearn.masking import unmask\n",
    "from nilearn.plotting import plot_stat_map\n",
    "from nilearn.image import load_img, index_img\n",
    "import matplotlib.pyplot as plt\n",
    "import cortex"
   ]
  },
  {
   "cell_type": "code",
   "execution_count": 4,
   "metadata": {},
   "outputs": [],
   "source": [
    "# Assumes you've downloaded the THINGS-fMRI data to this directory\n",
    "# basedir = '/Users/olivercontier/bigfri/openneuro/THINGS-data/THINGS-fMRI/derivatives'"
   ]
  },
  {
   "cell_type": "markdown",
   "metadata": {},
   "source": [
    "## Single trial responses"
   ]
  },
  {
   "cell_type": "markdown",
   "metadata": {},
   "source": [
    "The single trial responses are arguably the easiest way to analyze the THINGS-fMRI data. They contains the magnitude of the fMRI response to each stimulus in each voxel with a single number. The single trial responses are provided in two formats: a) In table format, b) in volumetric format."
   ]
  },
  {
   "cell_type": "markdown",
   "metadata": {},
   "source": [
    "### Table format"
   ]
  },
  {
   "cell_type": "markdown",
   "metadata": {},
   "source": [
    "Besides the fMRI response data, the table format contains metadata about each voxel (such as noise ceilings, pRF parameters, regions of interest) and about the stimulus (such as image file name, trial type, run and session). You can download this data [here](https://doi.org/10.25452/figshare.plus.20492835.v2)."
   ]
  },
  {
   "cell_type": "code",
   "execution_count": 5,
   "metadata": {
    "ExecuteTime": {
     "end_time": "2024-11-01T08:57:43.271486Z",
     "start_time": "2024-11-01T08:57:43.268956Z"
    }
   },
   "outputs": [],
   "source": [
    "# Assumes you downloaded the single trial responses in table format to this directory \n",
    "betas_csv_dir = pjoin(r'/mnt/dataset0/ldy/datasets/THINGS_fMRI/THINGS_fMRI_Single_Trial_table', 'betas_csv')\n",
    "\n",
    "# and that you're interested in the data for the first subject\n",
    "sub = '03'"
   ]
  },
  {
   "cell_type": "code",
   "execution_count": 6,
   "metadata": {},
   "outputs": [
    {
     "data": {
      "text/plain": [
       "'03'"
      ]
     },
     "execution_count": 6,
     "metadata": {},
     "output_type": "execute_result"
    }
   ],
   "source": [
    "sub"
   ]
  },
  {
   "cell_type": "markdown",
   "metadata": {},
   "source": [
    "The `sub-{subject}_ResponseData.h5` files contain the actual single trial responses. Rows are voxels, columns are trials."
   ]
  },
  {
   "cell_type": "code",
   "execution_count": 7,
   "metadata": {
    "ExecuteTime": {
     "end_time": "2024-11-01T09:00:32.803283Z",
     "start_time": "2024-11-01T08:58:38.782292Z"
    }
   },
   "outputs": [
    {
     "name": "stdout",
     "output_type": "stream",
     "text": [
      "Single trial response data\n"
     ]
    }
   ],
   "source": [
    "data_file = pjoin(betas_csv_dir, f'sub-{sub}_ResponseData.h5')\n",
    "responses = pd.read_hdf(data_file)\n",
    "print('Single trial response data')\n"
   ]
  },
  {
   "cell_type": "code",
   "execution_count": 8,
   "metadata": {},
   "outputs": [
    {
     "name": "stdout",
     "output_type": "stream",
     "text": [
      "   voxel_id         0         1         2         3         4         5  \\\n",
      "0         0  0.013239  0.002022 -0.105115 -0.028644  0.010820  0.045174   \n",
      "1         1 -0.125393 -0.003670  0.091215 -0.040909  0.069582  0.069192   \n",
      "2         2  0.024484  0.065484 -0.042041 -0.014450 -0.002779  0.079440   \n",
      "3         3 -0.085995  0.081165  0.064865 -0.023732  0.000979  0.053820   \n",
      "4         4  0.045378  0.030528  0.052574  0.077042 -0.031905  0.029656   \n",
      "\n",
      "          6         7         8  ...      9830      9831      9832      9833  \\\n",
      "0  0.021671  0.067446 -0.012943  ... -0.034353 -0.120423  0.064878 -0.089535   \n",
      "1 -0.002254  0.052782  0.002731  ...  0.004860 -0.006326 -0.012317 -0.081720   \n",
      "2 -0.003625  0.052408 -0.003191  ...  0.002041 -0.013647 -0.021190  0.000605   \n",
      "3 -0.040727 -0.012333  0.045912  ...  0.041776  0.115980 -0.023257 -0.011929   \n",
      "4 -0.072517 -0.015580  0.032488  ...  0.045142  0.064435  0.123784  0.001207   \n",
      "\n",
      "       9834      9835      9836      9837      9838      9839  \n",
      "0  0.025040 -0.077540  0.075740  0.102647 -0.023470 -0.020143  \n",
      "1 -0.009490 -0.011595  0.130456  0.114616 -0.010227  0.057384  \n",
      "2  0.057942  0.064813  0.041211  0.075359 -0.003794 -0.046652  \n",
      "3 -0.060907  0.006370 -0.034301  0.038396  0.044679  0.025974  \n",
      "4 -0.027798  0.006506 -0.069370  0.024731  0.011598  0.094571  \n",
      "\n",
      "[5 rows x 9841 columns]\n"
     ]
    }
   ],
   "source": [
    "print(responses.head())"
   ]
  },
  {
   "cell_type": "code",
   "execution_count": 9,
   "metadata": {},
   "outputs": [
    {
     "name": "stdout",
     "output_type": "stream",
     "text": [
      "(189164, 9841)\n"
     ]
    }
   ],
   "source": [
    "print(responses.shape)"
   ]
  },
  {
   "cell_type": "markdown",
   "metadata": {},
   "source": [
    "The `sub-{subject}_VoxelMetadata.csv` files contain additional information about each voxel, such as membership to ROIs, reliability measures, and noise ceilings."
   ]
  },
  {
   "cell_type": "code",
   "execution_count": 10,
   "metadata": {
    "ExecuteTime": {
     "end_time": "2024-11-01T09:01:31.462600Z",
     "start_time": "2024-11-01T09:01:28.819342Z"
    }
   },
   "outputs": [
    {
     "data": {
      "text/html": [
       "<div>\n",
       "<style scoped>\n",
       "    .dataframe tbody tr th:only-of-type {\n",
       "        vertical-align: middle;\n",
       "    }\n",
       "\n",
       "    .dataframe tbody tr th {\n",
       "        vertical-align: top;\n",
       "    }\n",
       "\n",
       "    .dataframe thead th {\n",
       "        text-align: right;\n",
       "    }\n",
       "</style>\n",
       "<table border=\"1\" class=\"dataframe\">\n",
       "  <thead>\n",
       "    <tr style=\"text-align: right;\">\n",
       "      <th></th>\n",
       "      <th>voxel_id</th>\n",
       "      <th>subject_id</th>\n",
       "      <th>voxel_x</th>\n",
       "      <th>voxel_y</th>\n",
       "      <th>voxel_z</th>\n",
       "      <th>nc_singletrial</th>\n",
       "      <th>nc_testset</th>\n",
       "      <th>splithalf_uncorrected</th>\n",
       "      <th>splithalf_corrected</th>\n",
       "      <th>prf-eccentricity</th>\n",
       "      <th>...</th>\n",
       "      <th>glasser-p47r</th>\n",
       "      <th>glasser-TGv</th>\n",
       "      <th>glasser-MBelt</th>\n",
       "      <th>glasser-LBelt</th>\n",
       "      <th>glasser-A4</th>\n",
       "      <th>glasser-STSva</th>\n",
       "      <th>glasser-TE1m</th>\n",
       "      <th>glasser-PI</th>\n",
       "      <th>glasser-a32pr</th>\n",
       "      <th>glasser-p24</th>\n",
       "    </tr>\n",
       "  </thead>\n",
       "  <tbody>\n",
       "    <tr>\n",
       "      <th>0</th>\n",
       "      <td>0</td>\n",
       "      <td>3</td>\n",
       "      <td>0</td>\n",
       "      <td>33</td>\n",
       "      <td>34</td>\n",
       "      <td>0.000000</td>\n",
       "      <td>0.000000</td>\n",
       "      <td>-0.000847</td>\n",
       "      <td>-0.001695</td>\n",
       "      <td>10.378512</td>\n",
       "      <td>...</td>\n",
       "      <td>0</td>\n",
       "      <td>0</td>\n",
       "      <td>0</td>\n",
       "      <td>0</td>\n",
       "      <td>0</td>\n",
       "      <td>0</td>\n",
       "      <td>0</td>\n",
       "      <td>0</td>\n",
       "      <td>0</td>\n",
       "      <td>0</td>\n",
       "    </tr>\n",
       "    <tr>\n",
       "      <th>1</th>\n",
       "      <td>1</td>\n",
       "      <td>3</td>\n",
       "      <td>0</td>\n",
       "      <td>33</td>\n",
       "      <td>35</td>\n",
       "      <td>1.551098</td>\n",
       "      <td>15.900257</td>\n",
       "      <td>0.080501</td>\n",
       "      <td>0.149006</td>\n",
       "      <td>11.895808</td>\n",
       "      <td>...</td>\n",
       "      <td>0</td>\n",
       "      <td>0</td>\n",
       "      <td>0</td>\n",
       "      <td>0</td>\n",
       "      <td>0</td>\n",
       "      <td>0</td>\n",
       "      <td>0</td>\n",
       "      <td>0</td>\n",
       "      <td>0</td>\n",
       "      <td>0</td>\n",
       "    </tr>\n",
       "    <tr>\n",
       "      <th>2</th>\n",
       "      <td>2</td>\n",
       "      <td>3</td>\n",
       "      <td>0</td>\n",
       "      <td>34</td>\n",
       "      <td>34</td>\n",
       "      <td>0.000000</td>\n",
       "      <td>0.000000</td>\n",
       "      <td>-0.119311</td>\n",
       "      <td>-0.270950</td>\n",
       "      <td>8.952419</td>\n",
       "      <td>...</td>\n",
       "      <td>0</td>\n",
       "      <td>0</td>\n",
       "      <td>0</td>\n",
       "      <td>0</td>\n",
       "      <td>0</td>\n",
       "      <td>0</td>\n",
       "      <td>0</td>\n",
       "      <td>0</td>\n",
       "      <td>0</td>\n",
       "      <td>0</td>\n",
       "    </tr>\n",
       "    <tr>\n",
       "      <th>3</th>\n",
       "      <td>3</td>\n",
       "      <td>3</td>\n",
       "      <td>0</td>\n",
       "      <td>34</td>\n",
       "      <td>35</td>\n",
       "      <td>0.033844</td>\n",
       "      <td>0.404616</td>\n",
       "      <td>0.004827</td>\n",
       "      <td>0.009608</td>\n",
       "      <td>10.443779</td>\n",
       "      <td>...</td>\n",
       "      <td>0</td>\n",
       "      <td>0</td>\n",
       "      <td>0</td>\n",
       "      <td>0</td>\n",
       "      <td>0</td>\n",
       "      <td>0</td>\n",
       "      <td>0</td>\n",
       "      <td>0</td>\n",
       "      <td>0</td>\n",
       "      <td>0</td>\n",
       "    </tr>\n",
       "    <tr>\n",
       "      <th>4</th>\n",
       "      <td>4</td>\n",
       "      <td>3</td>\n",
       "      <td>0</td>\n",
       "      <td>35</td>\n",
       "      <td>34</td>\n",
       "      <td>2.784395</td>\n",
       "      <td>25.578476</td>\n",
       "      <td>0.146826</td>\n",
       "      <td>0.256057</td>\n",
       "      <td>0.000000</td>\n",
       "      <td>...</td>\n",
       "      <td>0</td>\n",
       "      <td>0</td>\n",
       "      <td>0</td>\n",
       "      <td>0</td>\n",
       "      <td>0</td>\n",
       "      <td>0</td>\n",
       "      <td>0</td>\n",
       "      <td>0</td>\n",
       "      <td>0</td>\n",
       "      <td>0</td>\n",
       "    </tr>\n",
       "  </tbody>\n",
       "</table>\n",
       "<p>5 rows × 220 columns</p>\n",
       "</div>"
      ],
      "text/plain": [
       "   voxel_id  subject_id  voxel_x  voxel_y  voxel_z  nc_singletrial  \\\n",
       "0         0           3        0       33       34        0.000000   \n",
       "1         1           3        0       33       35        1.551098   \n",
       "2         2           3        0       34       34        0.000000   \n",
       "3         3           3        0       34       35        0.033844   \n",
       "4         4           3        0       35       34        2.784395   \n",
       "\n",
       "   nc_testset  splithalf_uncorrected  splithalf_corrected  prf-eccentricity  \\\n",
       "0    0.000000              -0.000847            -0.001695         10.378512   \n",
       "1   15.900257               0.080501             0.149006         11.895808   \n",
       "2    0.000000              -0.119311            -0.270950          8.952419   \n",
       "3    0.404616               0.004827             0.009608         10.443779   \n",
       "4   25.578476               0.146826             0.256057          0.000000   \n",
       "\n",
       "   ...  glasser-p47r  glasser-TGv  glasser-MBelt  glasser-LBelt  glasser-A4  \\\n",
       "0  ...             0            0              0              0           0   \n",
       "1  ...             0            0              0              0           0   \n",
       "2  ...             0            0              0              0           0   \n",
       "3  ...             0            0              0              0           0   \n",
       "4  ...             0            0              0              0           0   \n",
       "\n",
       "   glasser-STSva  glasser-TE1m  glasser-PI  glasser-a32pr  glasser-p24  \n",
       "0              0             0           0              0            0  \n",
       "1              0             0           0              0            0  \n",
       "2              0             0           0              0            0  \n",
       "3              0             0           0              0            0  \n",
       "4              0             0           0              0            0  \n",
       "\n",
       "[5 rows x 220 columns]"
      ]
     },
     "execution_count": 10,
     "metadata": {},
     "output_type": "execute_result"
    }
   ],
   "source": [
    "vox_f = pjoin(betas_csv_dir, f'sub-{sub}_VoxelMetadata.csv')\n",
    "voxdata = pd.read_csv(vox_f)\n",
    "voxdata.head()"
   ]
  },
  {
   "cell_type": "code",
   "execution_count": 11,
   "metadata": {
    "ExecuteTime": {
     "end_time": "2024-11-01T09:01:34.092522Z",
     "start_time": "2024-11-01T09:01:34.089019Z"
    }
   },
   "outputs": [
    {
     "name": "stdout",
     "output_type": "stream",
     "text": [
      "available voxel metadata:\n",
      " ['voxel_id', 'subject_id', 'voxel_x', 'voxel_y', 'voxel_z', 'nc_singletrial', 'nc_testset', 'splithalf_uncorrected', 'splithalf_corrected', 'prf-eccentricity', 'prf-polarangle', 'prf-rsquared', 'prf-size', 'V1', 'V2', 'V3', 'hV4', 'VO1', 'VO2', 'LO1 (prf)', 'LO2 (prf)', 'TO1', 'TO2', 'V3b', 'V3a', 'lEBA', 'rEBA', 'lFFA', 'rFFA', 'lOFA', 'rOFA', 'lPPA', 'rPPA', 'lRSC', 'rRSC', 'lTOS', 'rTOS', 'lLOC', 'rLOC', 'IT', 'glasser-V1', 'glasser-MST', 'glasser-V6', 'glasser-V2', 'glasser-V3', 'glasser-V4', 'glasser-V8', 'glasser-4', 'glasser-3b', 'glasser-FEF', 'glasser-PEF', 'glasser-55b', 'glasser-V3A', 'glasser-RSC', 'glasser-POS2', 'glasser-V7', 'glasser-IPS1', 'glasser-FFC', 'glasser-V3B', 'glasser-LO1', 'glasser-LO2', 'glasser-PIT', 'glasser-MT', 'glasser-A1', 'glasser-PSL', 'glasser-SFL', 'glasser-PCV', 'glasser-STV', 'glasser-7Pm', 'glasser-7m', 'glasser-POS1', 'glasser-23d', 'glasser-v23ab', 'glasser-d23ab', 'glasser-31pv', 'glasser-5m', 'glasser-5mv', 'glasser-23c', 'glasser-5L', 'glasser-24dd', 'glasser-24dv', 'glasser-7AL', 'glasser-SCEF', 'glasser-6ma', 'glasser-7Am', 'glasser-7Pl', 'glasser-7PC', 'glasser-LIPv', 'glasser-VIP', 'glasser-MIP', 'glasser-1', 'glasser-2', 'glasser-3a', 'glasser-6d', 'glasser-6mp', 'glasser-6v', 'glasser-p24pr', 'glasser-33pr', 'glasser-a24pr', 'glasser-p32pr', 'glasser-a24', 'glasser-d32', 'glasser-8BM', 'glasser-p32', 'glasser-10r', 'glasser-47m', 'glasser-8Av', 'glasser-8Ad', 'glasser-9m', 'glasser-8BL', 'glasser-9p', 'glasser-10d', 'glasser-8C', 'glasser-44', 'glasser-45', 'glasser-47l', 'glasser-a47r', 'glasser-6r', 'glasser-IFJa', 'glasser-IFJp', 'glasser-IFSp', 'glasser-IFSa', 'glasser-p9-\\n46v', 'glasser-46', 'glasser-a9-\\n46v', 'glasser-9-46d', 'glasser-9a', 'glasser-10v', 'glasser-a10p', 'glasser-10pp', 'glasser-11l', 'glasser-13l', 'glasser-OFC', 'glasser-47s', 'glasser-LIPd', 'glasser-6a', 'glasser-i6-8', 'glasser-s6-8', 'glasser-43', 'glasser-OP4', 'glasser-OP1', 'glasser-OP2-3', 'glasser-52', 'glasser-RI', 'glasser-PFcm', 'glasser-PoI2', 'glasser-TA2', 'glasser-FOP4', 'glasser-MI', 'glasser-Pir', 'glasser-AVI', 'glasser-AAIC', 'glasser-FOP1', 'glasser-FOP3', 'glasser-FOP2', 'glasser-PFt', 'glasser-AIP', 'glasser-EC', 'glasser-PreS', 'glasser-H', 'glasser-ProS', 'glasser-PeEc', 'glasser-STGa', 'glasser-PBelt', 'glasser-A5', 'glasser-PHA1', 'glasser-PHA3', 'glasser-STSda', 'glasser-STSdp', 'glasser-STSvp', 'glasser-TGd', 'glasser-TE1a', 'glasser-TE1p', 'glasser-TE2a', 'glasser-TF', 'glasser-TE2p', 'glasser-PHT', 'glasser-PH', 'glasser-TPOJ1', 'glasser-TPOJ2', 'glasser-TPOJ3', 'glasser-DVT', 'glasser-PGp', 'glasser-IP2', 'glasser-IP1', 'glasser-IP0', 'glasser-PFop', 'glasser-PF', 'glasser-PFm', 'glasser-PGi', 'glasser-PGs', 'glasser-V6A', 'glasser-VMV1', 'glasser-VMV3', 'glasser-PHA2', 'glasser-V4t', 'glasser-FST', 'glasser-V3CD', 'glasser-LO3', 'glasser-VMV2', 'glasser-31pd', 'glasser-31a', 'glasser-VVC', 'glasser-25', 'glasser-s32', 'glasser-pOFC', 'glasser-PoI1', 'glasser-Ig', 'glasser-FOP5', 'glasser-p10p', 'glasser-p47r', 'glasser-TGv', 'glasser-MBelt', 'glasser-LBelt', 'glasser-A4', 'glasser-STSva', 'glasser-TE1m', 'glasser-PI', 'glasser-a32pr', 'glasser-p24']\n"
     ]
    }
   ],
   "source": [
    "print('available voxel metadata:\\n', voxdata.columns.to_list())"
   ]
  },
  {
   "cell_type": "markdown",
   "metadata": {},
   "source": [
    "The voxel indices can be used to reconstruct a volume, e.g. for visualizing results obtained from the single trial responses. Alternatively, the brain mask can be used for that purpose (see below). Membership of each voxel to the available ROIs is dummy coded, e.g. in `voxdata[\"V1\"]` or `voxdata[\"rFFA\"]`. The population receptive field parameters are encoded in the following columns: `prf-eccentricity`, `prf-polarangle`, `prf-size`, and `prf-rsquared`. Finally, different reliability estimates are available in the columns: `nc_testset`, `nc_singletrial`, `splithalf_uncorrected`, and `splithalf_corrected`."
   ]
  },
  {
   "cell_type": "code",
   "execution_count": 12,
   "metadata": {
    "ExecuteTime": {
     "end_time": "2024-11-01T09:08:01.822823Z",
     "start_time": "2024-11-01T09:07:42.408532Z"
    }
   },
   "outputs": [],
   "source": [
    "# vox_pick = voxdata['V1']\n",
    "# responses_np = responses.to_numpy()\n",
    "# responses_pick = responses_np"
   ]
  },
  {
   "cell_type": "code",
   "execution_count": 13,
   "metadata": {
    "ExecuteTime": {
     "end_time": "2024-11-01T09:14:15.327630Z",
     "start_time": "2024-11-01T09:14:15.319123Z"
    }
   },
   "outputs": [
    {
     "name": "stdout",
     "output_type": "stream",
     "text": [
      "sum of picked true voxels: 8128\n",
      "0         False\n",
      "1         False\n",
      "2         False\n",
      "3         False\n",
      "4         False\n",
      "          ...  \n",
      "189159    False\n",
      "189160    False\n",
      "189161    False\n",
      "189162    False\n",
      "189163    False\n",
      "Length: 189164, dtype: bool\n"
     ]
    }
   ],
   "source": [
    "# V1, V2, V3, hV4, OFA, FFA, EBA, PPA, MPA and OPA\n",
    "# roi_columns = ['V1', 'V2', 'V3', 'hV4', 'VO1', 'VO2', 'LO1 (prf)', 'LO2 (prf)', 'TO1', 'TO2', 'V3b', 'V3a', 'rOFA', 'lOFA', 'lSTS', 'rSTS', 'rFFA', 'lFFA', 'rEBA', 'lEBA', 'rPPA', 'lPPA', 'lLOC', 'rLOC', 'IT']\n",
    "roi_columns = ['V1', 'V2', 'V3', 'hV4', 'VO1', 'VO2', 'LO1 (prf)', 'LO2 (prf)', 'TO1', 'TO2', 'V3b', 'V3a', 'rOFA', 'lOFA', 'rFFA', 'lFFA', 'rEBA', 'lEBA', 'rPPA', 'lPPA', 'lLOC', 'rLOC', 'IT']\n",
    "vox_pick = voxdata[roi_columns].any(axis=1)\n",
    "\n",
    "# sum of picked true voxels\n",
    "print('sum of picked true voxels:', vox_pick.sum())\n",
    "print(vox_pick)\n"
   ]
  },
  {
   "cell_type": "code",
   "execution_count": 14,
   "metadata": {},
   "outputs": [
    {
     "data": {
      "text/plain": [
       "(9840, 7)"
      ]
     },
     "execution_count": 14,
     "metadata": {},
     "output_type": "execute_result"
    }
   ],
   "source": [
    "# Stimulus metadata\n",
    "stim_f = pjoin(betas_csv_dir, f'sub-{sub}_StimulusMetadata.csv')\n",
    "stimdata = pd.read_csv(stim_f)\n",
    "stimdata.shape"
   ]
  },
  {
   "cell_type": "code",
   "execution_count": 15,
   "metadata": {},
   "outputs": [
    {
     "name": "stdout",
     "output_type": "stream",
     "text": [
      "concepts: 720\n"
     ]
    }
   ],
   "source": [
    "# extract all concepts from stimulus metadata\n",
    "concepts = stimdata['concept'].unique()\n",
    "print('concepts:', len(concepts))"
   ]
  },
  {
   "cell_type": "code",
   "execution_count": 16,
   "metadata": {},
   "outputs": [
    {
     "name": "stdout",
     "output_type": "stream",
     "text": [
      "test_trial_ids: 1200\n",
      "train_trial_ids: 8640\n"
     ]
    }
   ],
   "source": [
    "# find all trial_ids in stimdata, whose trial_type is 'test'\n",
    "test_trial_ids = stimdata[stimdata['trial_type'] == 'test']['trial_id']\n",
    "print('test_trial_ids:', len(test_trial_ids))\n",
    "train_trial_ids = stimdata[stimdata['trial_type'] == 'train']['trial_id']\n",
    "print('train_trial_ids:', len(train_trial_ids))\n"
   ]
  },
  {
   "cell_type": "code",
   "execution_count": 17,
   "metadata": {},
   "outputs": [
    {
     "data": {
      "text/plain": [
       "13        13\n",
       "16        16\n",
       "30        30\n",
       "38        38\n",
       "39        39\n",
       "        ... \n",
       "9792    9792\n",
       "9796    9796\n",
       "9808    9808\n",
       "9815    9815\n",
       "9832    9832\n",
       "Name: trial_id, Length: 1200, dtype: int64"
      ]
     },
     "execution_count": 17,
     "metadata": {},
     "output_type": "execute_result"
    }
   ],
   "source": [
    "test_trial_ids"
   ]
  },
  {
   "cell_type": "code",
   "execution_count": 18,
   "metadata": {},
   "outputs": [
    {
     "data": {
      "text/plain": [
       "0          0\n",
       "1          1\n",
       "2          2\n",
       "3          3\n",
       "4          4\n",
       "        ... \n",
       "9835    9835\n",
       "9836    9836\n",
       "9837    9837\n",
       "9838    9838\n",
       "9839    9839\n",
       "Name: trial_id, Length: 9840, dtype: int64"
      ]
     },
     "execution_count": 18,
     "metadata": {},
     "output_type": "execute_result"
    }
   ],
   "source": [
    "stimdata['trial_id']"
   ]
  },
  {
   "cell_type": "code",
   "execution_count": 19,
   "metadata": {},
   "outputs": [],
   "source": [
    "# create a mapping from trial_id to stimulus\n",
    "trial_id_to_stimulus = dict(zip(stimdata['trial_id'], stimdata['stimulus']))"
   ]
  },
  {
   "cell_type": "code",
   "execution_count": 20,
   "metadata": {},
   "outputs": [
    {
     "data": {
      "text/plain": [
       "{0: 'jack_11s.jpg',\n",
       " 1: 'sword_11s.jpg',\n",
       " 2: 'peeler_11s.jpg',\n",
       " 3: 'onion_11n.jpg',\n",
       " 4: 'go-kart_11s.jpg',\n",
       " 5: 'antelope_11s.jpg',\n",
       " 6: 'wig_11s.jpg',\n",
       " 7: 'leggings_11s.jpg',\n",
       " 8: 'road_sign_11s.jpg',\n",
       " 9: 'manatee_11s.jpg',\n",
       " 10: 'deer_11s.jpg',\n",
       " 11: 'duster_11s.jpg',\n",
       " 12: 'sleeping_bag_11s.jpg',\n",
       " 13: 'horseshoe_13n.jpg',\n",
       " 14: 'tent_11s.jpg',\n",
       " 15: 'praying_mantis_11s.jpg',\n",
       " 16: 'altar_13s.jpg',\n",
       " 17: 'snorkel_11s.jpg',\n",
       " 18: 'applesauce_11s.jpg',\n",
       " 19: 'pillow_11s.jpg',\n",
       " 20: 'missile_11s.jpg',\n",
       " 21: 'chalk_11s.jpg',\n",
       " 22: 'key_11s.jpg',\n",
       " 23: 'garbage_11s.jpg',\n",
       " 24: 'parachute_11s.jpg',\n",
       " 25: 'plate_11s.jpg',\n",
       " 26: 'bobsled_11s.jpg',\n",
       " 27: 'bib_11s.jpg',\n",
       " 28: 'headphones_11s.jpg',\n",
       " 29: 'cage_11s.jpg',\n",
       " 30: 'easel_15s.jpg',\n",
       " 31: 'paperclip_11s.jpg',\n",
       " 32: 'puck_11s.jpg',\n",
       " 33: 'possum_11s.jpg',\n",
       " 34: 'oar_11s.jpg',\n",
       " 35: 'monkey_11n.jpg',\n",
       " 36: 'battery_11s.jpg',\n",
       " 37: 'toothpick_11s.jpg',\n",
       " 38: 'iguana_20s.jpg',\n",
       " 39: 'boa_13s.jpg',\n",
       " 40: 'piano_11n.jpg',\n",
       " 41: 'crown_11s.jpg',\n",
       " 42: 'apple_11s.jpg',\n",
       " 43: 'bell_11s.jpg',\n",
       " 44: 'cheese_14n.jpg',\n",
       " 45: 'syringe_11s.jpg',\n",
       " 46: 'stapler_11s.jpg',\n",
       " 47: 'camera2_11s.jpg',\n",
       " 48: 'crank_11s.jpg',\n",
       " 49: 'forklift_11n.jpg',\n",
       " 50: 'jam_15s.jpg',\n",
       " 51: 'mascara_11s.jpg',\n",
       " 52: 'manhole_11s.jpg',\n",
       " 53: 'easel_11s.jpg',\n",
       " 54: 'clock_11n.jpg',\n",
       " 55: 'microscope_11s.jpg',\n",
       " 56: 'thermometer_11s.jpg',\n",
       " 57: 'hamburger_11s.jpg',\n",
       " 58: 'needle_11s.jpg',\n",
       " 59: 'touchpad_11s.jpg',\n",
       " 60: 'seesaw_11s.jpg',\n",
       " 61: 'marijuana_11s.jpg',\n",
       " 62: 'anklet_11s.jpg',\n",
       " 63: 'hay_11s.jpg',\n",
       " 64: 'grape_20s.jpg',\n",
       " 65: 'blanket_11n.jpg',\n",
       " 66: 'cookie_11s.jpg',\n",
       " 67: 'lock_11s.jpg',\n",
       " 68: 'sundae_11s.jpg',\n",
       " 69: 'iceskate_11s.jpg',\n",
       " 70: 'lobster_11s.jpg',\n",
       " 71: 'milk_11s.jpg',\n",
       " 72: 'mosquito_net_11s.jpg',\n",
       " 73: 'elephant_11n.jpg',\n",
       " 74: 'bumper_11s.jpg',\n",
       " 75: 'wolf_11n.jpg',\n",
       " 76: 'porcupine_11s.jpg',\n",
       " 77: 'barrel_11s.jpg',\n",
       " 78: 'beaver_13n.jpg',\n",
       " 79: 'mitten_11s.jpg',\n",
       " 80: 'seesaw_13s.jpg',\n",
       " 81: 'desk_11s.jpg',\n",
       " 82: 'boy_11s.jpg',\n",
       " 83: 'steamroller_11n.jpg',\n",
       " 84: 'hippopotamus_16s.jpg',\n",
       " 85: 'boot_11s.jpg',\n",
       " 86: 'cauliflower_11s.jpg',\n",
       " 87: 'pill_11s.jpg',\n",
       " 88: 'bandage_11s.jpg',\n",
       " 89: 'pacifier_14s.jpg',\n",
       " 90: 'cheetah_11s.jpg',\n",
       " 91: 'boxing_gloves_11s.jpg',\n",
       " 92: 'scanner_11s.jpg',\n",
       " 93: 'gravel_11s.jpg',\n",
       " 94: 'sock_11s.jpg',\n",
       " 95: 'bee_11s.jpg',\n",
       " 96: 'marshmallow_11s.jpg',\n",
       " 97: 'highlighter_11s.jpg',\n",
       " 98: 'scone_11s.jpg',\n",
       " 99: 'bus_11n.jpg',\n",
       " 100: 'map_11s.jpg',\n",
       " 101: 'saddle_11s.jpg',\n",
       " 102: 'clay_11s.jpg',\n",
       " 103: 'yo-yo_11s.jpg',\n",
       " 104: 'joystick_11s.jpg',\n",
       " 105: 'stamp2_11s.jpg',\n",
       " 106: 'jellyfish_11s.jpg',\n",
       " 107: 'book_11s.jpg',\n",
       " 108: 'candelabra_14s.jpg',\n",
       " 109: 'saltshaker_11s.jpg',\n",
       " 110: 'spoon_13n.jpg',\n",
       " 111: 'rice_11s.jpg',\n",
       " 112: 'flag_11s.jpg',\n",
       " 113: 'wrench_11s.jpg',\n",
       " 114: 'birdcage_11s.jpg',\n",
       " 115: 'boar_11s.jpg',\n",
       " 116: 'tongs_11s.jpg',\n",
       " 117: 'shell2_11s.jpg',\n",
       " 118: 'noodle_11s.jpg',\n",
       " 119: 'graffiti_17s.jpg',\n",
       " 120: 'mosquito_11s.jpg',\n",
       " 121: 'earring_11n.jpg',\n",
       " 122: 'tent_14n.jpg',\n",
       " 123: 'goalpost_11s.jpg',\n",
       " 124: 'lion_11s.jpg',\n",
       " 125: 'pinwheel_11s.jpg',\n",
       " 126: 'limousine_11s.jpg',\n",
       " 127: 'alligator_14n.jpg',\n",
       " 128: 'curtain_11s.jpg',\n",
       " 129: 'clipboard_14s.jpg',\n",
       " 130: 'boat_14n.jpg',\n",
       " 131: 'table_11s.jpg',\n",
       " 132: 'oyster_11n.jpg',\n",
       " 133: 'revolver_11s.jpg',\n",
       " 134: 'dishrag_11s.jpg',\n",
       " 135: 'playing_card_11s.jpg',\n",
       " 136: 'wallet_11s.jpg',\n",
       " 137: 'valve_11s.jpg',\n",
       " 138: 'lip_balm_11s.jpg',\n",
       " 139: 'pacifier_11s.jpg',\n",
       " 140: 'dustpan_11s.jpg',\n",
       " 141: 'corn_11s.jpg',\n",
       " 142: 'crate_11s.jpg',\n",
       " 143: 'headlamp_11s.jpg',\n",
       " 144: 'cymbal_11s.jpg',\n",
       " 145: 'toast_11s.jpg',\n",
       " 146: 'burrito_11s.jpg',\n",
       " 147: 'cat_11s.jpg',\n",
       " 148: 'nail_polish_11s.jpg',\n",
       " 149: 'shower_cap_11s.jpg',\n",
       " 150: 'strainer_11s.jpg',\n",
       " 151: 'pogo_stick_11s.jpg',\n",
       " 152: 'taillight_11s.jpg',\n",
       " 153: 'otter_11s.jpg',\n",
       " 154: 'eyedropper_11s.jpg',\n",
       " 155: 'coin_11s.jpg',\n",
       " 156: 'thumbtack_11s.jpg',\n",
       " 157: 'petal_11s.jpg',\n",
       " 158: 'trumpet_11s.jpg',\n",
       " 159: 'dragonfly_13s.jpg',\n",
       " 160: 'knife_11s.jpg',\n",
       " 161: 'face_11s.jpg',\n",
       " 162: 'pepper1_11s.jpg',\n",
       " 163: 'bagel_11s.jpg',\n",
       " 164: 'lollipop_11s.jpg',\n",
       " 165: 'llama_11s.jpg',\n",
       " 166: 'gearshift_11n.jpg',\n",
       " 167: 'key_17s.jpg',\n",
       " 168: 'pineapple_11s.jpg',\n",
       " 169: 'hula_hoop_11s.jpg',\n",
       " 170: 'camel_11n.jpg',\n",
       " 171: 'anvil_11s.jpg',\n",
       " 172: 'kettle_11s.jpg',\n",
       " 173: 'speaker_16s.jpg',\n",
       " 174: 'potato_11s.jpg',\n",
       " 175: 'starfish_11s.jpg',\n",
       " 176: 'syrup_11s.jpg',\n",
       " 177: 'leopard_11s.jpg',\n",
       " 178: 'squirrel_11s.jpg',\n",
       " 179: 'contact_lens_11s.jpg',\n",
       " 180: 'sink_11s.jpg',\n",
       " 181: 'punch1_11s.jpg',\n",
       " 182: 'raspberry_11s.jpg',\n",
       " 183: 'roll_11s.jpg',\n",
       " 184: 'buggy_11s.jpg',\n",
       " 185: 'fish_11s.jpg',\n",
       " 186: 'shrimp_11s.jpg',\n",
       " 187: 'bow2_11s.jpg',\n",
       " 188: 'sewing_kit_11s.jpg',\n",
       " 189: 'ashtray_14n.jpg',\n",
       " 190: 'magnifying_glass_11s.jpg',\n",
       " 191: 'dishwasher_11s.jpg',\n",
       " 192: 'helicopter_25s.jpg',\n",
       " 193: 'blackberry_11s.jpg',\n",
       " 194: 'copier_11n.jpg',\n",
       " 195: 'bike_14s.jpg',\n",
       " 196: 'airbag_11s.jpg',\n",
       " 197: 'chocolate_11s.jpg',\n",
       " 198: 'pretzel_11s.jpg',\n",
       " 199: 'toaster_11s.jpg',\n",
       " 200: 'ant_11s.jpg',\n",
       " 201: 'turtle_11s.jpg',\n",
       " 202: 'bassinet_11s.jpg',\n",
       " 203: 'melon_11s.jpg',\n",
       " 204: 'pocketknife_11s.jpg',\n",
       " 205: 'polaroid_11s.jpg',\n",
       " 206: 'lemon_11s.jpg',\n",
       " 207: 'marshmallow_13s.jpg',\n",
       " 208: 'thimble_11s.jpg',\n",
       " 209: 'typewriter_11s.jpg',\n",
       " 210: 'lingerie_11s.jpg',\n",
       " 211: 'pie_11s.jpg',\n",
       " 212: 'ferris_wheel_11s.jpg',\n",
       " 213: 'rabbit_11s.jpg',\n",
       " 214: 'hedge_11s.jpg',\n",
       " 215: 'golf_cart_11s.jpg',\n",
       " 216: 'milkshake_11s.jpg',\n",
       " 217: 'stair_11s.jpg',\n",
       " 218: 'pistachio_11s.jpg',\n",
       " 219: 'crowbar_11s.jpg',\n",
       " 220: 'necklace_11s.jpg',\n",
       " 221: 'drain_16s.jpg',\n",
       " 222: 'raft_11s.jpg',\n",
       " 223: 'treadmill_11s.jpg',\n",
       " 224: 'drill_11s.jpg',\n",
       " 225: 'beachball_11s.jpg',\n",
       " 226: 'beet_11s.jpg',\n",
       " 227: 'spareribs_11s.jpg',\n",
       " 228: 'dough_19s.jpg',\n",
       " 229: 'pan_14s.jpg',\n",
       " 230: 'walker1_11s.jpg',\n",
       " 231: 'guitar_11s.jpg',\n",
       " 232: 'mop_11s.jpg',\n",
       " 233: 'parsley_11n.jpg',\n",
       " 234: 'handcuff_11s.jpg',\n",
       " 235: 'walnut_11s.jpg',\n",
       " 236: 'credit_card_11s.jpg',\n",
       " 237: 'tumbleweed_11s.jpg',\n",
       " 238: 'whale_11s.jpg',\n",
       " 239: 'koala_11s.jpg',\n",
       " 240: 'viewfinder_11s.jpg',\n",
       " 241: 'umbrella_13s.jpg',\n",
       " 242: 'brownie_11s.jpg',\n",
       " 243: 'dish_11s.jpg',\n",
       " 244: 'clipboard_11s.jpg',\n",
       " 245: 'pea_11s.jpg',\n",
       " 246: 'lasagna_11s.jpg',\n",
       " 247: 'pancake_11s.jpg',\n",
       " 248: 'dragonfly_11n.jpg',\n",
       " 249: 'axe_14n.jpg',\n",
       " 250: 'hula_hoop_16s.jpg',\n",
       " 251: 'broccoli_11s.jpg',\n",
       " 252: 'banana_11s.jpg',\n",
       " 253: 'hairpin_11n.jpg',\n",
       " 254: 'defibrillator_11s.jpg',\n",
       " 255: 'footbath_11s.jpg',\n",
       " 256: 'tamale_16s.jpg',\n",
       " 257: 'hotdog_11n.jpg',\n",
       " 258: 'ship_11s.jpg',\n",
       " 259: 'washboard_11s.jpg',\n",
       " 260: 'spout_11s.jpg',\n",
       " 261: 'papaya_11n.jpg',\n",
       " 262: 'tortilla_11s.jpg',\n",
       " 263: 'broom_11s.jpg',\n",
       " 264: 'hairbrush_11s.jpg',\n",
       " 265: 'submarine_11n.jpg',\n",
       " 266: 'chipmunk_11s.jpg',\n",
       " 267: 'mousse_11s.jpg',\n",
       " 268: 'pudding_11s.jpg',\n",
       " 269: 'fire_11s.jpg',\n",
       " 270: 'meat_grinder_11s.jpg',\n",
       " 271: 'trap_11s.jpg',\n",
       " 272: 'avocado_11s.jpg',\n",
       " 273: 'wheelbarrow_11s.jpg',\n",
       " 274: 'fireworks_11s.jpg',\n",
       " 275: 'brownie_14s.jpg',\n",
       " 276: 'kale_11s.jpg',\n",
       " 277: 'cellphone_11s.jpg',\n",
       " 278: 'leek_11s.jpg',\n",
       " 279: 'chair_11s.jpg',\n",
       " 280: 'quill_15s.jpg',\n",
       " 281: 'trowel_11s.jpg',\n",
       " 282: 'doll_11s.jpg',\n",
       " 283: 'car_11s.jpg',\n",
       " 284: 'chili_11s.jpg',\n",
       " 285: 'flashlight_11n.jpg',\n",
       " 286: 'doormat_11s.jpg',\n",
       " 287: 'bear_11s.jpg',\n",
       " 288: 'stopwatch_11s.jpg',\n",
       " 289: 'bracket_11s.jpg',\n",
       " 290: 'acorn_11s.jpg',\n",
       " 291: 'woman_11s.jpg',\n",
       " 292: 'horse_11s.jpg',\n",
       " 293: 'skunk_11s.jpg',\n",
       " 294: 'boxer_shorts_11s.jpg',\n",
       " 295: 'clarinet_11s.jpg',\n",
       " 296: 'cow_16n.jpg',\n",
       " 297: 'cherry_11s.jpg',\n",
       " 298: 'dollhouse_11s.jpg',\n",
       " 299: 'odometer_11s.jpg',\n",
       " 300: 'shovel_11s.jpg',\n",
       " 301: 'extinguisher_11s.jpg',\n",
       " 302: 'life_jacket_11s.jpg',\n",
       " 303: 'snake_11s.jpg',\n",
       " 304: 'television_14n.jpg',\n",
       " 305: 'mandolin_11s.jpg',\n",
       " 306: 'paintbrush_11s.jpg',\n",
       " 307: 'joystick_14s.jpg',\n",
       " 308: 'bread_11s.jpg',\n",
       " 309: 'monkey_18n.jpg',\n",
       " 310: 'crouton_11n.jpg',\n",
       " 311: 'suspenders_11s.jpg',\n",
       " 312: 'envelope_11s.jpg',\n",
       " 313: 'pear_13s.jpg',\n",
       " 314: 'cabbage_11s.jpg',\n",
       " 315: 'beaker_11s.jpg',\n",
       " 316: 'coat_11s.jpg',\n",
       " 317: 'sprinkler_11s.jpg',\n",
       " 318: 'powder_11s.jpg',\n",
       " 319: 'tarp_11s.jpg',\n",
       " 320: 'wand_11n.jpg',\n",
       " 321: 'blender_11s.jpg',\n",
       " 322: 'sea_urchin_11s.jpg',\n",
       " 323: 'mushroom_11n.jpg',\n",
       " 324: 'fondue_11n.jpg',\n",
       " 325: 'tray_11s.jpg',\n",
       " 326: 'rat_11s.jpg',\n",
       " 327: 'sombrero_11s.jpg',\n",
       " 328: 'wallpaper_13s.jpg',\n",
       " 329: 'gargoyle_11s.jpg',\n",
       " 330: 'lemonade_14s.jpg',\n",
       " 331: 'spider_11s.jpg',\n",
       " 332: 'tadpole_11s.jpg',\n",
       " 333: 'pliers_11s.jpg',\n",
       " 334: 'ring_11s.jpg',\n",
       " 335: 'rattle_11s.jpg',\n",
       " 336: 'coat_rack_13s.jpg',\n",
       " 337: 'hand_11s.jpg',\n",
       " 338: 'fern_11s.jpg',\n",
       " 339: 'lightbulb_11s.jpg',\n",
       " 340: 'bench_11s.jpg',\n",
       " 341: 'icicle_11s.jpg',\n",
       " 342: 'tattoo_11s.jpg',\n",
       " 343: 'urinal_13s.jpg',\n",
       " 344: 'inhaler_11s.jpg',\n",
       " 345: 'hovercraft_11s.jpg',\n",
       " 346: 'crank_16s.jpg',\n",
       " 347: 'baby_11s.jpg',\n",
       " 348: 'thermostat_11s.jpg',\n",
       " 349: 'subway_11s.jpg',\n",
       " 350: 'sunroof_11s.jpg',\n",
       " 351: 'helicopter_11s.jpg',\n",
       " 352: 'diaper_11s.jpg',\n",
       " 353: 'slingshot_11s.jpg',\n",
       " 354: 'razor_11n.jpg',\n",
       " 355: 'bottle_11s.jpg',\n",
       " 356: 'silverware_11s.jpg',\n",
       " 357: 'tie_11s.jpg',\n",
       " 358: 'grasshopper_11s.jpg',\n",
       " 359: 'iguana_11s.jpg',\n",
       " 360: 'refrigerator_11s.jpg',\n",
       " 361: 'rocking_chair_11s.jpg',\n",
       " 362: 'nose_11s.jpg',\n",
       " 363: 'wall_11s.jpg',\n",
       " 364: 'footprint_11s.jpg',\n",
       " 365: 'quill_11s.jpg',\n",
       " 366: 'graffiti_11s.jpg',\n",
       " 367: 'dolphin_11n.jpg',\n",
       " 368: 'dolly_11s.jpg',\n",
       " 369: 'sundial_11s.jpg',\n",
       " 370: 'lizard_11n.jpg',\n",
       " 371: 'asparagus_11s.jpg',\n",
       " 372: 'elbow_11s.jpg',\n",
       " 373: 'kebab_11n.jpg',\n",
       " 374: 'camcorder_11s.jpg',\n",
       " 375: 'gramophone_11s.jpg',\n",
       " 376: 'truck_11s.jpg',\n",
       " 377: 'coffin_11s.jpg',\n",
       " 378: 'calculator_11s.jpg',\n",
       " 379: 'peanut_11n.jpg',\n",
       " 380: 'candy_bar_11s.jpg',\n",
       " 381: 'rabbit_13n.jpg',\n",
       " 382: 'candy_11s.jpg',\n",
       " 383: 'towel_rack_11s.jpg',\n",
       " 384: 'prism_11s.jpg',\n",
       " 385: 'flyswatter_11s.jpg',\n",
       " 386: 'cow_11s.jpg',\n",
       " 387: 'gauze_11s.jpg',\n",
       " 388: 'pumpkin_21n.jpg',\n",
       " 389: 'bike_11s.jpg',\n",
       " 390: 'barnacle_11s.jpg',\n",
       " 391: 'peach_11n.jpg',\n",
       " 392: 'groundhog_11s.jpg',\n",
       " 393: 'caterpillar_11s.jpg',\n",
       " 394: 'gel_11s.jpg',\n",
       " 395: 'ferret_11s.jpg',\n",
       " 396: 'wallpaper_11s.jpg',\n",
       " 397: 'lasagna_13s.jpg',\n",
       " 398: 'game_11s.jpg',\n",
       " 399: 'ukulele_11s.jpg',\n",
       " 400: 'egg_roll_11s.jpg',\n",
       " 401: 'compass_11n.jpg',\n",
       " 402: 'flashbulb_11n.jpg',\n",
       " 403: 'warthog_11s.jpg',\n",
       " 404: 'footprint_15s.jpg',\n",
       " 405: 'peach_14n.jpg',\n",
       " 406: 'drain_11s.jpg',\n",
       " 407: 'mirror_11s.jpg',\n",
       " 408: 'wrapping_paper_11s.jpg',\n",
       " 409: 'satellite_dish_11s.jpg',\n",
       " 410: 'plastic_film_11s.jpg',\n",
       " 411: 'dress_11s.jpg',\n",
       " 412: 'meat_11s.jpg',\n",
       " 413: 'pigeon_11s.jpg',\n",
       " 414: 'pear_11s.jpg',\n",
       " 415: 'robot_11s.jpg',\n",
       " 416: 'scarecrow_11s.jpg',\n",
       " 417: 'alligator_11s.jpg',\n",
       " 418: 'motorcycle_11s.jpg',\n",
       " 419: 'railing_11s.jpg',\n",
       " 420: 'cheese_11s.jpg',\n",
       " 421: 'pickle_11s.jpg',\n",
       " 422: 'wasp_15n.jpg',\n",
       " 423: 'worm_11s.jpg',\n",
       " 424: 'cranberry_11n.jpg',\n",
       " 425: 'toilet_11n.jpg',\n",
       " 426: 'floss_11s.jpg',\n",
       " 427: 'tractor_11s.jpg',\n",
       " 428: 'rhubarb_11n.jpg',\n",
       " 429: 'banana_13s.jpg',\n",
       " 430: 'flower_11s.jpg',\n",
       " 431: 'punching_bag_11s.jpg',\n",
       " 432: 'hourglass_11s.jpg',\n",
       " 433: 'nacho_11s.jpg',\n",
       " 434: 'jukebox_11s.jpg',\n",
       " 435: 't-shirt_11s.jpg',\n",
       " 436: 'locker_11n.jpg',\n",
       " 437: 'cookie_15s.jpg',\n",
       " 438: 'hanger_11s.jpg',\n",
       " 439: 'pig_11s.jpg',\n",
       " 440: 'firetruck_11s.jpg',\n",
       " 441: 'water_fountain_11s.jpg',\n",
       " 442: 'bracelet2_11s.jpg',\n",
       " 443: 'cane_11s.jpg',\n",
       " 444: 'microphone_11s.jpg',\n",
       " 445: 'blueberry_11n.jpg',\n",
       " 446: 'ping-pong_table_11s.jpg',\n",
       " 447: 'eyepiece_11s.jpg',\n",
       " 448: 'carousel_11s.jpg',\n",
       " 449: 'toilet_paper_11s.jpg',\n",
       " 450: 'stiletto_11s.jpg',\n",
       " 451: 'bean_13s.jpg',\n",
       " 452: 'tree_11s.jpg',\n",
       " 453: 'chest1_14s.jpg',\n",
       " 454: 'mango_13s.jpg',\n",
       " 455: 'wire_11s.jpg',\n",
       " 456: 'shirt_11s.jpg',\n",
       " 457: 'cardigan_11s.jpg',\n",
       " 458: 'burner_11s.jpg',\n",
       " 459: 'tag_11s.jpg',\n",
       " 460: 'pizza_11s.jpg',\n",
       " 461: 'dough_11s.jpg',\n",
       " 462: 'speaker_11s.jpg',\n",
       " 463: 'popsicle_11s.jpg',\n",
       " 464: 'bullet_11s.jpg',\n",
       " 465: 'scallion_11s.jpg',\n",
       " 466: 'weasel_11n.jpg',\n",
       " 467: 'television_11s.jpg',\n",
       " 468: 'guillotine_11s.jpg',\n",
       " 469: 'shower_11s.jpg',\n",
       " 470: 'mousetrap_14s.jpg',\n",
       " 471: 'granola_11s.jpg',\n",
       " 472: 'stove1_11s.jpg',\n",
       " 473: 'gun_11s.jpg',\n",
       " 474: 'radish_11s.jpg',\n",
       " 475: 'sloth_11n.jpg',\n",
       " 476: 'undershirt_11s.jpg',\n",
       " 477: 'goat_11s.jpg',\n",
       " 478: 'watch_11s.jpg',\n",
       " 479: 'dice_11s.jpg',\n",
       " 480: 'chalice_11s.jpg',\n",
       " 481: 'antenna_11s.jpg',\n",
       " 482: 'grape_11s.jpg',\n",
       " 483: 'streetlight_13s.jpg',\n",
       " 484: 'crystal1_11s.jpg',\n",
       " 485: 'windowsill_11s.jpg',\n",
       " 486: 'carrot_11s.jpg',\n",
       " 487: 'whip_14s.jpg',\n",
       " 488: 'bulldozer_22n.jpg',\n",
       " 489: 'kazoo_11s.jpg',\n",
       " 490: 'chest1_11s.jpg',\n",
       " 491: 'sheep_11s.jpg',\n",
       " 492: 'bucket_11s.jpg',\n",
       " 493: 'tab_11s.jpg',\n",
       " 494: 'pencil_sharpener_11s.jpg',\n",
       " 495: 'donut_15s.jpg',\n",
       " 496: 'paper_11s.jpg',\n",
       " 497: 'hamster_11s.jpg',\n",
       " 498: 'cockroach_11s.jpg',\n",
       " 499: 'crayon_11s.jpg',\n",
       " 500: 'blind_11s.jpg',\n",
       " 501: 'football_helmet_11s.jpg',\n",
       " 502: 'macadamia_11s.jpg',\n",
       " 503: 'mousetrap_11s.jpg',\n",
       " 504: 'scissors_11s.jpg',\n",
       " 505: 'lawnmower_11n.jpg',\n",
       " 506: 'beaver_11n.jpg',\n",
       " 507: 'bunkbed_11s.jpg',\n",
       " 508: 'bungee_11s.jpg',\n",
       " 509: 'tweezers_11s.jpg',\n",
       " 510: 'camera1_11s.jpg',\n",
       " 511: 'solar_panel_11s.jpg',\n",
       " 512: 'oatmeal_11s.jpg',\n",
       " 513: 'wheat_11s.jpg',\n",
       " 514: 'bison_11s.jpg',\n",
       " 515: 'okra_11n.jpg',\n",
       " 516: 'gravestone_11s.jpg',\n",
       " 517: 'corkscrew_11s.jpg',\n",
       " 518: 'garter_11s.jpg',\n",
       " 519: 'coconut_11s.jpg',\n",
       " 520: 'lampshade_11s.jpg',\n",
       " 521: 'garlic_11s.jpg',\n",
       " 522: 'jar_14s.jpg',\n",
       " 523: 'binoculars_11n.jpg',\n",
       " 524: 'wasp_11s.jpg',\n",
       " 525: 'christmas_tree_11s.jpg',\n",
       " 526: 'hovercraft_13n.jpg',\n",
       " 527: 'cassette_11n.jpg',\n",
       " 528: 'butterfly_11s.jpg',\n",
       " 529: 'pumpkin_11s.jpg',\n",
       " 530: 'pecan_11s.jpg',\n",
       " 531: 'typewriter_13s.jpg',\n",
       " 532: 'aloe_11n.jpg',\n",
       " 533: 'guacamole_11s.jpg',\n",
       " 534: 'overalls_11s.jpg',\n",
       " 535: 'dresser_11s.jpg',\n",
       " 536: 'suit_11s.jpg',\n",
       " 537: 'grate_13s.jpg',\n",
       " 538: 'walrus_11s.jpg',\n",
       " 539: 'crayfish_11s.jpg',\n",
       " 540: 'ski_pole_11s.jpg',\n",
       " 541: 'boat_11n.jpg',\n",
       " 542: 'rug_11s.jpg',\n",
       " 543: 'ferris_wheel_20s.jpg',\n",
       " 544: 'hotplate_11s.jpg',\n",
       " 545: 'pan_11s.jpg',\n",
       " 546: 'bean_11s.jpg',\n",
       " 547: 'candle_11n.jpg',\n",
       " 548: 'rollerblade_11s.jpg',\n",
       " 549: 'coleslaw_11s.jpg',\n",
       " 550: 'omelet_11s.jpg',\n",
       " 551: 'soy_sauce_11s.jpg',\n",
       " 552: 'bowl_11s.jpg',\n",
       " 553: 'hood_11s.jpg',\n",
       " 554: 'fence_11s.jpg',\n",
       " 555: 'ruler_11s.jpg',\n",
       " 556: 'beer_11s.jpg',\n",
       " 557: 'uniform_11s.jpg',\n",
       " 558: 'fudge_14s.jpg',\n",
       " 559: 'uniform_14s.jpg',\n",
       " 560: 'jeans_11s.jpg',\n",
       " 561: 'couch_11s.jpg',\n",
       " 562: 'ball_11s.jpg',\n",
       " 563: 'pastry_11s.jpg',\n",
       " 564: 'eggbeater_11s.jpg',\n",
       " 565: 'chinchilla_11s.jpg',\n",
       " 566: 'microscope_14n.jpg',\n",
       " 567: 'jersey_11s.jpg',\n",
       " 568: 'kazoo_14s.jpg',\n",
       " 569: 'airplane_11n.jpg',\n",
       " 570: 'scoreboard_11s.jpg',\n",
       " 571: 'grapefruit_11s.jpg',\n",
       " 572: 'spatula_11s.jpg',\n",
       " 573: 'donkey_11s.jpg',\n",
       " 574: 'giraffe_11s.jpg',\n",
       " 575: 'wine_11s.jpg',\n",
       " 576: 'platypus_11s.jpg',\n",
       " 577: 'artichoke_11s.jpg',\n",
       " 578: 'bulldozer_11s.jpg',\n",
       " 579: 'canvas_11s.jpg',\n",
       " 580: 'padlock_11s.jpg',\n",
       " 581: 'grate_11s.jpg',\n",
       " 582: 'wheelchair_11n.jpg',\n",
       " 583: 'earwig_11s.jpg',\n",
       " 584: 'banner_11s.jpg',\n",
       " 585: 'glass_11s.jpg',\n",
       " 586: 'whisk_11s.jpg',\n",
       " 587: 'crib_11n.jpg',\n",
       " 588: 'chipmunk_16n.jpg',\n",
       " 589: 'chalkboard_11s.jpg',\n",
       " 590: 'wooden_leg_11s.jpg',\n",
       " 591: 'snowboard_11s.jpg',\n",
       " 592: 'stalagmite_14s.jpg',\n",
       " 593: 'taco_11s.jpg',\n",
       " 594: 'sweatsuit_11s.jpg',\n",
       " 595: 'fudge_11s.jpg',\n",
       " 596: 'bird_11s.jpg',\n",
       " 597: 'horseshoe_11n.jpg',\n",
       " 598: 'dashboard_11s.jpg',\n",
       " 599: 'hedgehog_11n.jpg',\n",
       " 600: 'egg_11s.jpg',\n",
       " 601: 'chin_11s.jpg',\n",
       " 602: 'shaving_cream_11s.jpg',\n",
       " 603: 'cork_11s.jpg',\n",
       " 604: 'ribbon_13s.jpg',\n",
       " 605: 'pocket_11s.jpg',\n",
       " 606: 'breadstick_11s.jpg',\n",
       " 607: 'record_11s.jpg',\n",
       " 608: 'pothole_11s.jpg',\n",
       " 609: 'jar_11s.jpg',\n",
       " 610: 'cucumber_11s.jpg',\n",
       " 611: 'horse_17s.jpg',\n",
       " 612: 'rhinoceros_11s.jpg',\n",
       " 613: 'crayon_15s.jpg',\n",
       " 614: 'tiara_11s.jpg',\n",
       " 615: 'banana_split_11s.jpg',\n",
       " 616: 'gondola_11s.jpg',\n",
       " 617: 'nest_11s.jpg',\n",
       " 618: 'blind_19s.jpg',\n",
       " 619: 'coverall_11s.jpg',\n",
       " 620: 'lectern_11s.jpg',\n",
       " 621: 'sickle_11s.jpg',\n",
       " 622: 'drawer_13s.jpg',\n",
       " 623: 'ashtray_11s.jpg',\n",
       " 624: 'nest_13s.jpg',\n",
       " 625: 'streetlight_11n.jpg',\n",
       " 626: 'piano_13n.jpg',\n",
       " 627: 'mouse1_11s.jpg',\n",
       " 628: 'lettuce_11s.jpg',\n",
       " 629: 'muffin_11n.jpg',\n",
       " 630: 'celery_11s.jpg',\n",
       " 631: 'pot_11s.jpg',\n",
       " 632: 'kangaroo_11s.jpg',\n",
       " 633: 'stalagmite_11s.jpg',\n",
       " 634: 'comb_11s.jpg',\n",
       " 635: 'aircraft_carrier_11s.jpg',\n",
       " 636: 'videocassette_11n.jpg',\n",
       " 637: 'ladle_11s.jpg',\n",
       " 638: 'granite_11s.jpg',\n",
       " 639: 'tree_trunk_11s.jpg',\n",
       " 640: 'hatbox_11s.jpg',\n",
       " 641: 'fig_11s.jpg',\n",
       " 642: 'brace_11s.jpg',\n",
       " 643: 'eggplant_11s.jpg',\n",
       " 644: 'guardrail_11s.jpg',\n",
       " 645: 'dog_11s.jpg',\n",
       " 646: 'ready_meal_11s.jpg',\n",
       " 647: 'filing_cabinet_11s.jpg',\n",
       " 648: 'meatball_11s.jpg',\n",
       " 649: 'sim_card_13s.jpg',\n",
       " 650: 'phone_11s.jpg',\n",
       " 651: 'lamp_11s.jpg',\n",
       " 652: 'honeycomb_11n.jpg',\n",
       " 653: 'scorpion_11n.jpg',\n",
       " 654: 'hip_11s.jpg',\n",
       " 655: 'cake_11s.jpg',\n",
       " 656: 'kimono_11s.jpg',\n",
       " 657: 'bubble_11s.jpg',\n",
       " 658: 'beetle_11s.jpg',\n",
       " 659: 'lime_11s.jpg',\n",
       " 660: 'aluminum_foil_11s.jpg',\n",
       " 661: 'cannon_11s.jpg',\n",
       " 662: 'mast_11s.jpg',\n",
       " 663: 'panda_11s.jpg',\n",
       " 664: 'breadbox_11s.jpg',\n",
       " 665: 'headlamp_14s.jpg',\n",
       " 666: 'bamboo_13s.jpg',\n",
       " 667: 'starfish_15n.jpg',\n",
       " 668: 'kimono_14s.jpg',\n",
       " 669: 'frog_11s.jpg',\n",
       " 670: 'poster_11s.jpg',\n",
       " 671: 'cotton_candy_11s.jpg',\n",
       " 672: 'lego_11s.jpg',\n",
       " 673: 'lemonade_11s.jpg',\n",
       " 674: 'retainer_11s.jpg',\n",
       " 675: 'paint_11s.jpg',\n",
       " 676: 'girl_11n.jpg',\n",
       " 677: 'tablecloth_11s.jpg',\n",
       " 678: 'guacamole_18s.jpg',\n",
       " 679: 'snail_11s.jpg',\n",
       " 680: 'penguin_11s.jpg',\n",
       " 681: 'steak_11s.jpg',\n",
       " 682: 'urinal_11s.jpg',\n",
       " 683: 'shoe_11s.jpg',\n",
       " 684: 'watch_13s.jpg',\n",
       " 685: 'tongue_11s.jpg',\n",
       " 686: 'waffle_iron_11s.jpg',\n",
       " 687: 'balloon_11s.jpg',\n",
       " 688: 'trashcan_11s.jpg',\n",
       " 689: 'drawer_11s.jpg',\n",
       " 690: 'mailbox_11s.jpg',\n",
       " 691: 'sushi_11s.jpg',\n",
       " 692: 'spoon_11s.jpg',\n",
       " 693: 'blazer_11s.jpg',\n",
       " 694: 'pomegranate_11n.jpg',\n",
       " 695: 'match_11s.jpg',\n",
       " 696: 'chip_11n.jpg',\n",
       " 697: 'grenade_11s.jpg',\n",
       " 698: 'cufflink_16s.jpg',\n",
       " 699: 'donut_11s.jpg',\n",
       " 700: 'shield_11s.jpg',\n",
       " 701: 'wig_13s.jpg',\n",
       " 702: 'bench_16n.jpg',\n",
       " 703: 'wire_cutters_11s.jpg',\n",
       " 704: 'teapot_11s.jpg',\n",
       " 705: 'projector_11s.jpg',\n",
       " 706: 'confetti_11s.jpg',\n",
       " 707: 'popcorn_11s.jpg',\n",
       " 708: 'hammock_11s.jpg',\n",
       " 709: 'computer_11s.jpg',\n",
       " 710: 'pom-pom_11s.jpg',\n",
       " 711: 'whip_11s.jpg',\n",
       " 712: 'ribbon_11s.jpg',\n",
       " 713: 'cup_11s.jpg',\n",
       " 714: 'altar_11n.jpg',\n",
       " 715: 'lantern_11s.jpg',\n",
       " 716: 'squeegee_11s.jpg',\n",
       " 717: 'screwdriver_11s.jpg',\n",
       " 718: 'cactus_11s.jpg',\n",
       " 719: 'pencil_11s.jpg',\n",
       " 720: 'toucan_11s.jpg',\n",
       " 721: 'shredder_11s.jpg',\n",
       " 722: 'zebra_11s.jpg',\n",
       " 723: 'pantyhose_11s.jpg',\n",
       " 724: 'helmet_11s.jpg',\n",
       " 725: 'face_mask_11s.jpg',\n",
       " 726: 'ladder_11s.jpg',\n",
       " 727: 'octopus_11n.jpg',\n",
       " 728: 'space_shuttle_11s.jpg',\n",
       " 729: 'iron_11s.jpg',\n",
       " 730: 'tamale_11s.jpg',\n",
       " 731: 'mask_11s.jpg',\n",
       " 732: 'sim_card_11s.jpg',\n",
       " 733: 'sandpaper_11s.jpg',\n",
       " 734: 'plum_11n.jpg',\n",
       " 735: 'dress_13s.jpg',\n",
       " 736: 'mango_11s.jpg',\n",
       " 737: 'anteater_11s.jpg',\n",
       " 738: 'moth_11n.jpg',\n",
       " 739: 'candelabra_11s.jpg',\n",
       " 740: 'emerald_11s.jpg',\n",
       " 741: 'napkin_ring_11s.jpg',\n",
       " 742: 'soda_fountain_11s.jpg',\n",
       " 743: 'stethoscope_11s.jpg',\n",
       " 744: 'shredder_13s.jpg',\n",
       " 745: 'butterfly_16n.jpg',\n",
       " 746: 'crutch_11s.jpg',\n",
       " 747: 'kite_11n.jpg',\n",
       " 748: 'toolbox_11s.jpg',\n",
       " 749: 'tiger_11s.jpg',\n",
       " 750: 'hippopotamus_11s.jpg',\n",
       " 751: 'scaffolding_11s.jpg',\n",
       " 752: 'bag_11s.jpg',\n",
       " 753: 'bed_20n.jpg',\n",
       " 754: 'axe_11n.jpg',\n",
       " 755: 'beer_14s.jpg',\n",
       " 756: 'tuxedo_11s.jpg',\n",
       " 757: 'bed_11n.jpg',\n",
       " 758: 'cinnamon_11s.jpg',\n",
       " 759: 'raccoon_11s.jpg',\n",
       " 760: 'roof_rack_11s.jpg',\n",
       " 761: 'racket_11s.jpg',\n",
       " 762: 'spinach_11s.jpg',\n",
       " 763: 'telescope_11n.jpg',\n",
       " 764: 'croissant_11s.jpg',\n",
       " 765: 'bobsled_14s.jpg',\n",
       " 766: 'coffee_pot_11s.jpg',\n",
       " 767: 'man_11s.jpg',\n",
       " 768: 'closet_11s.jpg',\n",
       " 769: 'moose_11s.jpg',\n",
       " 770: 'mistletoe_11s.jpg',\n",
       " 771: 'violin_11s.jpg',\n",
       " 772: 't-shirt_13s.jpg',\n",
       " 773: 'sonogram_11s.jpg',\n",
       " 774: 'rifle_11s.jpg',\n",
       " 775: 'cupcake_11s.jpg',\n",
       " 776: 'basket_11s.jpg',\n",
       " 777: 'drum_11n.jpg',\n",
       " 778: 'bolt_11s.jpg',\n",
       " 779: 'tomato_11s.jpg',\n",
       " 780: 'beachball_16s.jpg',\n",
       " 781: 'earring_16n.jpg',\n",
       " 782: 'umbrella_11s.jpg',\n",
       " 783: 'vase_11s.jpg',\n",
       " 784: 'brush_11s.jpg',\n",
       " 785: 'footrest_11s.jpg',\n",
       " 786: 'hammer_11n.jpg',\n",
       " 787: 'snowplow_11s.jpg',\n",
       " 788: 'bamboo_11s.jpg',\n",
       " 789: 'net_11s.jpg',\n",
       " 790: 'birdhouse_11s.jpg',\n",
       " 791: 'cufflink_11s.jpg',\n",
       " 792: 'computer_screen_11s.jpg',\n",
       " 793: 'strawberry_11n.jpg',\n",
       " 794: 'train_11n.jpg',\n",
       " 795: 'boa_11s.jpg',\n",
       " 796: 'thermos_11s.jpg',\n",
       " 797: 'jam_11s.jpg',\n",
       " 798: 'blimp_11n.jpg',\n",
       " 799: 'chicken_wire_11s.jpg',\n",
       " 800: 'mosquito_net_13s.jpg',\n",
       " 801: 'radiator_11s.jpg',\n",
       " 802: 'canoe_11s.jpg',\n",
       " 803: 'chandelier_11s.jpg',\n",
       " 804: 'velcro_11s.jpg',\n",
       " 805: 'chess_piece_11s.jpg',\n",
       " 806: 'grits_11s.jpg',\n",
       " 807: 'coat_rack_11s.jpg',\n",
       " 808: 'tiramisu_11s.jpg',\n",
       " 809: 'chest2_11s.jpg',\n",
       " 810: 'anchor_11n.jpg',\n",
       " 811: 'towel_11n.jpg',\n",
       " 812: 'cashew_11s.jpg',\n",
       " 813: 'knot_11s.jpg',\n",
       " 814: 'brace_14s.jpg',\n",
       " 815: 'blowtorch_11s.jpg',\n",
       " 816: 'smoke_alarm_11s.jpg',\n",
       " 817: 'backpack_11s.jpg',\n",
       " 818: 'zucchini_11s.jpg',\n",
       " 819: 'seagull_11s.jpg',\n",
       " 820: 'hamburger_09s.jpg',\n",
       " 821: 'ball_09s.jpg',\n",
       " 822: 'whip_09s.jpg',\n",
       " 823: 'tarp_09s.jpg',\n",
       " 824: 'pom-pom_09s.jpg',\n",
       " 825: 'chinchilla_09s.jpg',\n",
       " 826: 'barnacle_09s.jpg',\n",
       " 827: 'dress_09s.jpg',\n",
       " 828: 'ashtray_14n.jpg',\n",
       " 829: 'camera1_09s.jpg',\n",
       " 830: 'nose_09s.jpg',\n",
       " 831: 'flashbulb_09s.jpg',\n",
       " 832: 'flower_09s.jpg',\n",
       " 833: 'pineapple_09s.jpg',\n",
       " 834: 'applesauce_09s.jpg',\n",
       " 835: 'wheat_09n.jpg',\n",
       " 836: 'cassette_09s.jpg',\n",
       " 837: 'tamale_09s.jpg',\n",
       " 838: 'wig_13s.jpg',\n",
       " 839: 'bunkbed_09s.jpg',\n",
       " 840: 'ready_meal_09s.jpg',\n",
       " 841: 'urinal_13s.jpg',\n",
       " 842: 'ashtray_09s.jpg',\n",
       " 843: 'noodle_09s.jpg',\n",
       " 844: 'road_sign_09s.jpg',\n",
       " 845: 'airplane_09n.jpg',\n",
       " 846: 'doormat_09s.jpg',\n",
       " 847: 'candelabra_09s.jpg',\n",
       " 848: 'spatula_09s.jpg',\n",
       " 849: 'extinguisher_09s.jpg',\n",
       " 850: 'beachball_09s.jpg',\n",
       " 851: 'asparagus_09s.jpg',\n",
       " 852: 'penguin_09s.jpg',\n",
       " 853: 'meat_grinder_09s.jpg',\n",
       " 854: 'snowplow_09s.jpg',\n",
       " 855: 'ship_09s.jpg',\n",
       " 856: 'streetlight_13s.jpg',\n",
       " 857: 'donut_15s.jpg',\n",
       " 858: 'boar_09s.jpg',\n",
       " 859: 'hotplate_09s.jpg',\n",
       " 860: 'gearshift_09n.jpg',\n",
       " 861: 'hamster_09s.jpg',\n",
       " 862: 'mop_09s.jpg',\n",
       " 863: 'flag_09s.jpg',\n",
       " 864: 'bracket_09s.jpg',\n",
       " 865: 'scaffolding_09s.jpg',\n",
       " 866: 'pencil_09s.jpg',\n",
       " 867: 'tattoo_09s.jpg',\n",
       " 868: 'aluminum_foil_09s.jpg',\n",
       " 869: 'rabbit_09s.jpg',\n",
       " 870: 'cheetah_09s.jpg',\n",
       " 871: 'beaver_13n.jpg',\n",
       " 872: 'squirrel_09s.jpg',\n",
       " 873: 'mousetrap_14s.jpg',\n",
       " 874: 'kazoo_14s.jpg',\n",
       " 875: 'taco_09n.jpg',\n",
       " 876: 'toilet_paper_09s.jpg',\n",
       " 877: 'bulldozer_09s.jpg',\n",
       " 878: 'brace_09s.jpg',\n",
       " 879: 'powder_09s.jpg',\n",
       " 880: 'sloth_09s.jpg',\n",
       " 881: 'toilet_09s.jpg',\n",
       " 882: 'chipmunk_09s.jpg',\n",
       " 883: 'sickle_09s.jpg',\n",
       " 884: 'table_09s.jpg',\n",
       " 885: 'manatee_09s.jpg',\n",
       " 886: 'donkey_09n.jpg',\n",
       " 887: 'crouton_09s.jpg',\n",
       " 888: 'hotdog_09s.jpg',\n",
       " 889: 'coin_09s.jpg',\n",
       " 890: 'ferris_wheel_09s.jpg',\n",
       " 891: 'projector_09s.jpg',\n",
       " 892: 'brownie_09s.jpg',\n",
       " 893: 'onion_09s.jpg',\n",
       " 894: 'prism_09s.jpg',\n",
       " 895: 'thermometer_09s.jpg',\n",
       " 896: 'smoke_alarm_09s.jpg',\n",
       " 897: 'spareribs_09s.jpg',\n",
       " 898: 'soy_sauce_09s.jpg',\n",
       " 899: 'typewriter_13s.jpg',\n",
       " 900: 'boat_14n.jpg',\n",
       " 901: 'train_09s.jpg',\n",
       " 902: 'chess_piece_09s.jpg',\n",
       " 903: 'fireworks_09s.jpg',\n",
       " 904: 'bee_09s.jpg',\n",
       " 905: 'pliers_09s.jpg',\n",
       " 906: 'koala_09s.jpg',\n",
       " 907: 'ping-pong_table_09s.jpg',\n",
       " 908: 'boot_09s.jpg',\n",
       " 909: 'cashew_09s.jpg',\n",
       " 910: 'hanger_09s.jpg',\n",
       " 911: 'iguana_20s.jpg',\n",
       " 912: 'ladle_09s.jpg',\n",
       " 913: 'grape_09s.jpg',\n",
       " 914: 'footprint_15s.jpg',\n",
       " 915: 'eggplant_09s.jpg',\n",
       " 916: 'earring_16n.jpg',\n",
       " 917: 'lemonade_14s.jpg',\n",
       " 918: 'donut_09s.jpg',\n",
       " 919: 'axe_09n.jpg',\n",
       " 920: 'rocking_chair_09s.jpg',\n",
       " 921: 'elephant_09n.jpg',\n",
       " 922: 'paperclip_09s.jpg',\n",
       " 923: 'spoon_09s.jpg',\n",
       " 924: 'stalagmite_14s.jpg',\n",
       " 925: 'sock_09s.jpg',\n",
       " 926: 'kettle_09s.jpg',\n",
       " 927: 'missile_09s.jpg',\n",
       " 928: 'racket_09s.jpg',\n",
       " 929: 'egg_roll_09n.jpg',\n",
       " 930: 'wire_cutters_09s.jpg',\n",
       " 931: 'basket_09s.jpg',\n",
       " 932: 'telescope_09n.jpg',\n",
       " 933: 'shaving_cream_09s.jpg',\n",
       " 934: 'tag_09s.jpg',\n",
       " 935: 'helmet_09s.jpg',\n",
       " 936: 'gravestone_09s.jpg',\n",
       " 937: 'bag_09s.jpg',\n",
       " 938: 'streetlight_09s.jpg',\n",
       " 939: 'raft_09s.jpg',\n",
       " 940: 'mirror_09s.jpg',\n",
       " 941: 'ribbon_09s.jpg',\n",
       " 942: 'candy_09s.jpg',\n",
       " 943: 'steak_09s.jpg',\n",
       " 944: 'goalpost_09s.jpg',\n",
       " 945: 'beet_09s.jpg',\n",
       " 946: 'hovercraft_13n.jpg',\n",
       " 947: 'go-kart_09s.jpg',\n",
       " 948: 'coffin_09s.jpg',\n",
       " 949: 'pill_09s.jpg',\n",
       " 950: 'boxer_shorts_09s.jpg',\n",
       " 951: 'lasagna_13s.jpg',\n",
       " 952: 'wrapping_paper_09s.jpg',\n",
       " 953: 'flyswatter_09s.jpg',\n",
       " 954: 'pretzel_09s.jpg',\n",
       " 955: 'limousine_09s.jpg',\n",
       " 956: 'wall_09s.jpg',\n",
       " 957: 'aircraft_carrier_09s.jpg',\n",
       " 958: 'thermos_09s.jpg',\n",
       " 959: 'beaker_09s.jpg',\n",
       " 960: 'birdcage_09s.jpg',\n",
       " 961: 'kite_09n.jpg',\n",
       " 962: 'peanut_09n.jpg',\n",
       " 963: 'kangaroo_09n.jpg',\n",
       " 964: 'hand_09s.jpg',\n",
       " 965: 'muffin_09n.jpg',\n",
       " 966: 'sword_09s.jpg',\n",
       " 967: 'anchor_09s.jpg',\n",
       " 968: 'elbow_09s.jpg',\n",
       " 969: 'grape_20s.jpg',\n",
       " 970: 'canoe_09s.jpg',\n",
       " 971: 'drill_09s.jpg',\n",
       " 972: 'aloe_09s.jpg',\n",
       " 973: 'tomato_09n.jpg',\n",
       " 974: 'cookie_15s.jpg',\n",
       " 975: 'blazer_09s.jpg',\n",
       " 976: 'coconut_09s.jpg',\n",
       " 977: 'easel_15s.jpg',\n",
       " 978: 'pocketknife_09s.jpg',\n",
       " 979: 'plastic_film_09s.jpg',\n",
       " 980: 'wrench_09s.jpg',\n",
       " 981: 'computer_screen_09s.jpg',\n",
       " 982: 'valve_09s.jpg',\n",
       " 983: 'bed_09n.jpg',\n",
       " 984: 'seesaw_09s.jpg',\n",
       " 985: 'leek_09s.jpg',\n",
       " 986: 'tab_09s.jpg',\n",
       " 987: 'pie_09s.jpg',\n",
       " 988: 'couch_09s.jpg',\n",
       " 989: 'bread_09s.jpg',\n",
       " 990: 'chest2_09s.jpg',\n",
       " 991: 'mascara_09s.jpg',\n",
       " 992: 'banana_13s.jpg',\n",
       " 993: 'pothole_09s.jpg',\n",
       " 994: 'mousse_09s.jpg',\n",
       " 995: 'pig_09s.jpg',\n",
       " 996: 'umbrella_13s.jpg',\n",
       " 997: 'woman_09s.jpg',\n",
       " 998: 'breadstick_09s.jpg',\n",
       " 999: 'mango_13s.jpg',\n",
       " ...}"
      ]
     },
     "execution_count": 20,
     "metadata": {},
     "output_type": "execute_result"
    }
   ],
   "source": [
    "trial_id_to_stimulus"
   ]
  },
  {
   "cell_type": "code",
   "execution_count": 21,
   "metadata": {},
   "outputs": [],
   "source": [
    "# # 划分测试集\n",
    "# test_stimdata = stimdata[stimdata['trial_id'].isin(test_trial_ids)].reset_index(drop=True)\n",
    "\n",
    "# # 划分训练集\n",
    "# train_stimdata = stimdata[stimdata['trial_id'].isin(train_trial_ids)].reset_index(drop=True)\n",
    "\n",
    "# # 输出结果进行验证\n",
    "# print(\"测试集 stimdata:\")\n",
    "# print(test_stimdata)\n",
    "# print(\"\\n训练集 stimdata:\")\n",
    "# print(train_stimdata)"
   ]
  },
  {
   "cell_type": "code",
   "execution_count": 22,
   "metadata": {},
   "outputs": [],
   "source": [
    "# train_stimdata = train_stimdata.sort_values(by='stimulus')\n",
    "# test_stimdata = test_stimdata.sort_values(by='stimulus')\n",
    "# print('train_stimdata:', train_stimdata.shape)\n",
    "# print('test_stimdata:', test_stimdata.shape)"
   ]
  },
  {
   "cell_type": "code",
   "execution_count": 23,
   "metadata": {},
   "outputs": [
    {
     "name": "stdout",
     "output_type": "stream",
     "text": [
      "responses_pick: (8128, 9841)\n"
     ]
    }
   ],
   "source": [
    "# apply voxel mask to responses\n",
    "responses_np = responses.to_numpy()\n",
    "responses_pick = responses_np[vox_pick,:]\n",
    "print('responses_pick:', responses_pick.shape)\n",
    "\n",
    "\n"
   ]
  },
  {
   "cell_type": "code",
   "execution_count": 24,
   "metadata": {},
   "outputs": [
    {
     "name": "stdout",
     "output_type": "stream",
     "text": [
      "responses_pick: (8128, 9840)\n",
      "responses_pick: [[ 0.01900595  0.0229135  -0.06697899 ...  0.08979687  0.05588575\n",
      "   0.04279312]\n",
      " [ 0.01402964 -0.01851454 -0.16293375 ...  0.05386849  0.12791638\n",
      "   0.00577851]\n",
      " [ 0.00799971 -0.04215239 -0.06869916 ...  0.06243646  0.00178091\n",
      "  -0.01686477]\n",
      " ...\n",
      " [-0.08852731 -0.07090534 -0.0025794  ... -0.01899403 -0.02433767\n",
      "  -0.0199908 ]\n",
      " [ 0.12763731  0.01390089 -0.00898259 ...  0.00069999  0.08681266\n",
      "  -0.00326645]\n",
      " [-0.04713013  0.02682863  0.03472633 ... -0.09340548 -0.0028976\n",
      "   0.03100214]]\n"
     ]
    }
   ],
   "source": [
    "# remove the first column of responses_pick\n",
    "responses_pick = responses_pick[:,1:]\n",
    "print('responses_pick:', responses_pick.shape)\n",
    "print('responses_pick:', responses_pick)"
   ]
  },
  {
   "cell_type": "code",
   "execution_count": null,
   "metadata": {},
   "outputs": [],
   "source": []
  },
  {
   "cell_type": "code",
   "execution_count": 25,
   "metadata": {},
   "outputs": [],
   "source": [
    "# sort all test trial_ids by their stimulus in the name of stimulus in alphabetical order\n",
    "# test_trial_ids = sorted(test_trial_ids, key=lambda x: trial_id_to_stimulus[x])\n",
    "# print('test_trial_ids:', test_trial_ids)\n",
    "# train_trial_ids = sorted(train_trial_ids, key=lambda x: trial_id_to_stimulus[x])\n",
    "# print('train_trial_ids:', train_trial_ids)"
   ]
  },
  {
   "cell_type": "code",
   "execution_count": 26,
   "metadata": {},
   "outputs": [],
   "source": [
    "# train_trial_ids = sorted(train_trial_ids)\n",
    "# len(train_trial_ids)"
   ]
  },
  {
   "cell_type": "code",
   "execution_count": 27,
   "metadata": {},
   "outputs": [],
   "source": [
    "# test_trial_ids = sorted(test_trial_ids)\n",
    "# len(test_trial_ids)"
   ]
  },
  {
   "cell_type": "code",
   "execution_count": 28,
   "metadata": {},
   "outputs": [
    {
     "name": "stdout",
     "output_type": "stream",
     "text": [
      "test_data: (1200, 8128)\n",
      "train_data: (8640, 8128)\n"
     ]
    }
   ],
   "source": [
    "# initialize train and test arrays\n",
    "# each array will have shape (n_trials, n_voxels)\n",
    "n_voxels = responses_pick.shape[0]\n",
    "n_test_trials = len(test_trial_ids)\n",
    "n_train_trials = len(train_trial_ids)\n",
    "test_data = np.zeros((n_test_trials, n_voxels))\n",
    "train_data = np.zeros((n_train_trials, n_voxels))\n",
    "print('test_data:', test_data.shape)\n",
    "print('train_data:', train_data.shape)"
   ]
  },
  {
   "cell_type": "code",
   "execution_count": 29,
   "metadata": {},
   "outputs": [
    {
     "data": {
      "text/plain": [
       "9840"
      ]
     },
     "execution_count": 29,
     "metadata": {},
     "output_type": "execute_result"
    }
   ],
   "source": [
    "len(stimdata['trial_type'] == 'test')"
   ]
  },
  {
   "cell_type": "code",
   "execution_count": 30,
   "metadata": {},
   "outputs": [
    {
     "name": "stdout",
     "output_type": "stream",
     "text": [
      "Number of 'test' trial types: 1200\n"
     ]
    }
   ],
   "source": [
    "test_count = sum(stimdata['trial_type'] == 'test')\n",
    "print(\"Number of 'test' trial types:\", test_count)\n"
   ]
  },
  {
   "cell_type": "code",
   "execution_count": 31,
   "metadata": {},
   "outputs": [
    {
     "data": {
      "text/plain": [
       "9840"
      ]
     },
     "execution_count": 31,
     "metadata": {},
     "output_type": "execute_result"
    }
   ],
   "source": [
    "len(stimdata['trial_type'] == 'train')"
   ]
  },
  {
   "cell_type": "code",
   "execution_count": 32,
   "metadata": {},
   "outputs": [
    {
     "name": "stdout",
     "output_type": "stream",
     "text": [
      "Number of 'train' trial types: 8640\n"
     ]
    }
   ],
   "source": [
    "train_count = sum(stimdata['trial_type'] == 'train')\n",
    "print(\"Number of 'train' trial types:\", train_count)\n"
   ]
  },
  {
   "cell_type": "code",
   "execution_count": 33,
   "metadata": {},
   "outputs": [
    {
     "data": {
      "text/plain": [
       "(8128, 9840)"
      ]
     },
     "execution_count": 33,
     "metadata": {},
     "output_type": "execute_result"
    }
   ],
   "source": [
    "responses_pick.shape"
   ]
  },
  {
   "cell_type": "code",
   "execution_count": 34,
   "metadata": {},
   "outputs": [],
   "source": [
    "# fill train_data and test_data with responses_pick according to the sorted trial_ids one by one\n",
    "test_data = responses_pick[:, stimdata['trial_type'] == 'test']\n",
    "train_data = responses_pick[:, stimdata['trial_type'] == 'train']\n"
   ]
  },
  {
   "cell_type": "code",
   "execution_count": 35,
   "metadata": {},
   "outputs": [
    {
     "data": {
      "text/plain": [
       "(8128, 1200)"
      ]
     },
     "execution_count": 35,
     "metadata": {},
     "output_type": "execute_result"
    }
   ],
   "source": [
    "import numpy as np\n",
    "\n",
    "# 假设 stimdata 是一个字典或类似结构，包含 'trial_type' 和 'stimulus'\n",
    "# 并且 responses_pick 是一个二维 NumPy 数组，维度为 (features, trials)\n",
    "\n",
    "# 创建布尔掩码\n",
    "test_mask = stimdata['trial_type'] == 'test'\n",
    "train_mask = stimdata['trial_type'] == 'train'\n",
    "\n",
    "# 分别提取 test 和 train 数据\n",
    "test_data = responses_pick[:, test_mask]\n",
    "train_data = responses_pick[:, train_mask]\n",
    "train_data.shape\n",
    "test_data.shape"
   ]
  },
  {
   "cell_type": "code",
   "execution_count": 36,
   "metadata": {},
   "outputs": [],
   "source": [
    "\n",
    "# 提取对应的 stimulus\n",
    "test_stimulus = stimdata['stimulus'][test_mask]\n",
    "train_stimulus = stimdata['stimulus'][train_mask]\n",
    "\n",
    "# 获取排序后的索引（升序）\n",
    "sorted_test_indices = np.argsort(test_stimulus)\n",
    "sorted_train_indices = np.argsort(train_stimulus)\n",
    "\n",
    "# 重排 test_data 和 train_data\n",
    "sorted_test_data = test_data[:, sorted_test_indices]\n",
    "sorted_train_data = train_data[:, sorted_train_indices]"
   ]
  },
  {
   "cell_type": "code",
   "execution_count": 37,
   "metadata": {},
   "outputs": [],
   "source": [
    "# 如果需要，可以将排序后的数据重新赋值回原变量\n",
    "test_data = sorted_test_data\n",
    "train_data = sorted_train_data"
   ]
  },
  {
   "cell_type": "code",
   "execution_count": 38,
   "metadata": {},
   "outputs": [
    {
     "data": {
      "text/plain": [
       "(8640, 8128)"
      ]
     },
     "execution_count": 38,
     "metadata": {},
     "output_type": "execute_result"
    }
   ],
   "source": [
    "train_data = train_data.transpose()\n",
    "train_data.shape"
   ]
  },
  {
   "cell_type": "code",
   "execution_count": 39,
   "metadata": {},
   "outputs": [
    {
     "data": {
      "text/plain": [
       "(1200, 8128)"
      ]
     },
     "execution_count": 39,
     "metadata": {},
     "output_type": "execute_result"
    }
   ],
   "source": [
    "test_data = test_data.transpose()\n",
    "test_data.shape"
   ]
  },
  {
   "cell_type": "code",
   "execution_count": 40,
   "metadata": {},
   "outputs": [
    {
     "data": {
      "text/plain": [
       "(720, 12, 8128)"
      ]
     },
     "execution_count": 40,
     "metadata": {},
     "output_type": "execute_result"
    }
   ],
   "source": [
    "\n",
    "train_voxels = train_data.reshape(train_data.shape[0] // 12, 12, -1)\n",
    "train_voxels.shape\n",
    "\n"
   ]
  },
  {
   "cell_type": "code",
   "execution_count": 41,
   "metadata": {},
   "outputs": [
    {
     "data": {
      "text/plain": [
       "(100, 12, 8128)"
      ]
     },
     "execution_count": 41,
     "metadata": {},
     "output_type": "execute_result"
    }
   ],
   "source": [
    "\n",
    "# 拆分 test_responses\n",
    "# 计算新形状\n",
    "test_voxels = test_data.reshape(test_data.shape[0] // 12,  12, -1)\n",
    "test_voxels.shape"
   ]
  },
  {
   "cell_type": "code",
   "execution_count": 42,
   "metadata": {},
   "outputs": [
    {
     "name": "stdout",
     "output_type": "stream",
     "text": [
      "train_responses and test_responses saved to pkl successfully\n"
     ]
    }
   ],
   "source": [
    "import os\n",
    "import pickle\n",
    "from os.path import join as pjoin\n",
    "\n",
    "output_dir = pjoin(f'/mnt/dataset1/ldy/datasets/fmri_dataset/Preprosessed_allvoxels/sub-{sub}')\n",
    "if not os.path.exists(output_dir):\n",
    "    os.makedirs(output_dir)\n",
    "\n",
    "# 保存 train_voxels 到 pkl 文件\n",
    "with open(pjoin(output_dir, 'train_responses.pkl'), 'wb') as f:\n",
    "    pickle.dump(train_voxels, f)\n",
    "\n",
    "# 保存 test_voxels 到 pkl 文件\n",
    "with open(pjoin(output_dir, 'test_responses.pkl'), 'wb') as f:\n",
    "    pickle.dump(test_voxels, f)\n",
    "\n",
    "print('train_responses and test_responses saved to pkl successfully')\n"
   ]
  },
  {
   "cell_type": "code",
   "execution_count": null,
   "metadata": {},
   "outputs": [],
   "source": [
    "# train_stimdata = stimdata[stimdata['trial_type'] == 'train']\n",
    "# test_stimdata = stimdata[stimdata['trial_type'] == 'test']\n",
    "# print('train_stimdata shape:', train_stimdata.shape)\n",
    "# print('test_stimdata shape:', test_stimdata.shape)"
   ]
  },
  {
   "cell_type": "code",
   "execution_count": null,
   "metadata": {},
   "outputs": [],
   "source": [
    "import shutil\n",
    "# copy images to the output directory\n",
    "origin_root = '/mnt/dataset0/ldy/4090_Workspace/4090_THINGS/osfstorage/THINGS/Images/images'\n",
    "output_dir_train = '/mnt/dataset0/ldy/datasets/fmri_dataset/images/train_images'\n",
    "output_dir_test = '/mnt/dataset0/ldy/datasets/fmri_dataset/images/test_images'\n",
    "if not os.path.exists(output_dir_train):\n",
    "    os.makedirs(output_dir_train)\n",
    "if not os.path.exists(output_dir_test):\n",
    "    os.makedirs(output_dir_test)\n",
    "# join origin_root with concept, stimulus to get the full path of the image\n",
    "train_paths = [pjoin(origin_root, concept, stimulus) for concept, stimulus in zip(train_stimdata['concept'], train_stimdata['stimulus'])]\n",
    "test_paths = [pjoin(origin_root, concept, stimulus) for concept, stimulus in zip(test_stimdata['concept'], test_stimdata['stimulus'])]\n",
    "print(train_paths[:5])\n",
    "print(test_paths[:5])\n",
    "# unique train_paths and test_paths\n",
    "train_paths = list(set(train_paths))\n",
    "test_paths = list(set(test_paths))\n",
    "print('train_paths:', len(train_paths))\n",
    "print('test_paths:', len(test_paths))"
   ]
  },
  {
   "cell_type": "code",
   "execution_count": null,
   "metadata": {},
   "outputs": [],
   "source": [
    "for src_path in train_paths:\n",
    "    # 获取概念名称（文件路径的倒数第二部分）\n",
    "    concept = src_path.split('/')[-2]  # 获取目录名作为概念\n",
    "    # 创建目标子目录\n",
    "    concept_dir = os.path.join(output_dir_train, concept)\n",
    "    os.makedirs(concept_dir, exist_ok=True)\n",
    "    # 复制文件\n",
    "    shutil.copy(src_path, concept_dir)\n",
    "\n",
    "for src_path in test_paths:\n",
    "    # 获取概念名称（文件路径的倒数第二部分）\n",
    "    concept = src_path.split('/')[-2]  # 获取目录名作为概念\n",
    "    # 创建目标子目录\n",
    "    concept_dir = os.path.join(output_dir_test, concept)\n",
    "    os.makedirs(concept_dir, exist_ok=True)\n",
    "    # 复制文件\n",
    "    shutil.copy(src_path, concept_dir)\n",
    "    \n",
    "print('images copied successfully')"
   ]
  },
  {
   "cell_type": "code",
   "execution_count": null,
   "metadata": {},
   "outputs": [],
   "source": [
    "import os\n",
    "\n",
    "training_images_dir = \"/mnt/dataset0/ldy/datasets/fmri_dataset/images/train_images\"\n",
    "\n",
    "def count_images(directory):\n",
    "    total_dirs = 0\n",
    "    total_images = 0\n",
    "\n",
    "\n",
    "    for entry in os.listdir(directory):\n",
    "        path = os.path.join(directory, entry)\n",
    "        if os.path.isdir(path):\n",
    "            total_dirs += 1\n",
    "\n",
    "            total_images += len([file for file in os.listdir(path) if os.path.isfile(os.path.join(path, file))])\n",
    "\n",
    "    return total_dirs, total_images\n",
    "\n",
    "num_dirs, num_images = count_images(training_images_dir)\n",
    "\n",
    "print(f\"There are {num_dirs} subdirectories in total\")\n",
    "print(f\"All subdirectories together contain {num_images} images in total\")\n"
   ]
  },
  {
   "cell_type": "code",
   "execution_count": null,
   "metadata": {},
   "outputs": [],
   "source": [
    "import os\n",
    "\n",
    "test_images_dir = \"/mnt/dataset0/ldy/datasets/fmri_dataset/images/test_images\"\n",
    "\n",
    "def count_images(directory):\n",
    "    total_dirs = 0\n",
    "    total_images = 0\n",
    "\n",
    "\n",
    "    for entry in os.listdir(directory):\n",
    "        path = os.path.join(directory, entry)\n",
    "        if os.path.isdir(path):\n",
    "            total_dirs += 1\n",
    "\n",
    "            total_images += len([file for file in os.listdir(path) if os.path.isfile(os.path.join(path, file))])\n",
    "\n",
    "    return total_dirs, total_images\n",
    "\n",
    "num_dirs, num_images = count_images(test_images_dir)\n",
    "\n",
    "print(f\"There are {num_dirs} subdirectories in total\")\n",
    "print(f\"All subdirectories together contain {num_images} images in total\")\n"
   ]
  },
  {
   "cell_type": "markdown",
   "metadata": {},
   "source": [
    "The `sub-{subject}_StimulusMetadata.csv` files contain information about the file name of the image shown in each trial, which run and session a given trial occured in, and the trial_type. "
   ]
  },
  {
   "cell_type": "markdown",
   "metadata": {},
   "source": [
    "> 🚨 **Trial types**\n",
    ">\n",
    "> The THINGS-fMRI experiment presented participants with three different trial types:\n",
    "> - `train`: Participants passively viewed an object image.\n",
    "> - `test`: Same as train, but these trials belonged to a set of 200 images which were presented in each session. It's main purpose is to allow for estimating the reliability of the single trial responses in a given voxel.\n",
    "> - `catch`: Participants saw a non-object image and responded with a button press. This was included to ensure participants were engaged throughout the experiment.\n",
    ">\n",
    "> Note: Catch trials are excluded from the single trial responses in table format as they are likely not of interest for most applications. However, catch trials are included in the volumetric format in order to make it possible to account for them in analyses."
   ]
  },
  {
   "cell_type": "markdown",
   "metadata": {},
   "source": [
    "### Select subset of trials"
   ]
  },
  {
   "cell_type": "markdown",
   "metadata": {},
   "source": [
    "We can select a subset of the response data based on the stimulus type, e.g. only the repeatedly presented `test` stimuli."
   ]
  },
  {
   "cell_type": "code",
   "execution_count": null,
   "metadata": {},
   "outputs": [],
   "source": [
    "test_indices = stimdata.query('trial_type == \"test\"').index\n",
    "test_responses = responses[test_indices]\n",
    "test_responses.shape"
   ]
  },
  {
   "cell_type": "markdown",
   "metadata": {},
   "source": [
    "As another example, we can also select data based on which object category (or `concept`) was shown. Let's select all trials with images showing a `mango`"
   ]
  },
  {
   "cell_type": "code",
   "execution_count": null,
   "metadata": {},
   "outputs": [],
   "source": [
    "mango_indices = stimdata.query('concept == \"mango\"').index\n",
    "mango_responses = responses[mango_indices]\n",
    "mango_responses.shape"
   ]
  },
  {
   "cell_type": "markdown",
   "metadata": {},
   "source": [
    "### Volume format"
   ]
  },
  {
   "cell_type": "markdown",
   "metadata": {},
   "source": [
    "The single trial responses are also provided in volume format which preserves the spatial structure of the data. The data is broken up into runs and sessions, similar to the raw data files."
   ]
  },
  {
   "cell_type": "code",
   "execution_count": null,
   "metadata": {},
   "outputs": [],
   "source": [
    "basedir = '/mnt/dataset0/ldy/datasets/THINGS_fMRI/THINGS_fMRI_Single_Trial'\n",
    "sub = '01'\n",
    "# the directory containing the single trial responses in volume form\n",
    "betas_vol_dir = pjoin(basedir, 'betas_vol', f'sub-{sub}')\n",
    "# show directory content\n",
    "files = glob.glob(pjoin(betas_vol_dir, '*', '*'))\n",
    "files = [f.replace(basedir, '') for f in files]\n",
    "print('\\n'.join(files[:10]))"
   ]
  },
  {
   "cell_type": "markdown",
   "metadata": {},
   "source": [
    "The `...betas.nii.gz` files are 3D+time nifti images where the time dimension corresponds to  trials. The `...conditions.tsv` contain the file names of object images for each trial."
   ]
  },
  {
   "cell_type": "code",
   "execution_count": null,
   "metadata": {},
   "outputs": [],
   "source": [
    "# Load responses for example run\n",
    "betas_f = pjoin(betas_vol_dir, 'ses-things01', f'sub-{sub}_ses-things01_run-01_betas.nii.gz')\n",
    "betas_example = load_img(betas_f)\n",
    "\n",
    "# and plot the volume of the 3rd trial\n",
    "betas_example = index_img(betas_example, 2)\n",
    "g = plot_stat_map(\n",
    "    betas_example, bg_img=None, annotate=False, cmap='twilight', vmax=.4,  draw_cross=False, \n",
    ")\n",
    "g.title('Example: Volumetric single trial response (trial# 3)', bgcolor='white', color='black')"
   ]
  },
  {
   "cell_type": "code",
   "execution_count": null,
   "metadata": {},
   "outputs": [],
   "source": [
    "# load the trial conditions\n",
    "# Note that the volumetric single trial responses include catch trials\n",
    "conds_tsv = pjoin(betas_vol_dir, 'ses-things01', f'sub-{sub}_ses-things01_run-01_conditions.tsv')\n",
    "conds = pd.read_csv(conds_tsv, sep='\\t').drop(columns='Unnamed: 0')\n",
    "print('Content of \"...conditions.tsv\"')\n",
    "conds.head()"
   ]
  },
  {
   "cell_type": "markdown",
   "metadata": {},
   "source": [
    "## Brain masks"
   ]
  },
  {
   "cell_type": "markdown",
   "metadata": {},
   "source": [
    "The brain masks indicate wether a given voxel is located in the brain or not (`1: brain`, `0: not brain`). They can be used e.g. to create a nifti volume from the results you obtained from the single trial responses."
   ]
  },
  {
   "cell_type": "code",
   "execution_count": 38,
   "metadata": {},
   "outputs": [],
   "source": [
    "# Say you have analyzed the single trial responses in table format have produced these results\n",
    "# These results are an array of n elements, where n is the number of voxels within the brain.\n",
    "# results = np.random.randn(responses.shape[0])\n",
    "results = np.random.randn(211339)\n",
    "loinds = voxdata['lLOC'].astype(bool) # pretend we found activity in LOC\n",
    "results[loinds] += 5"
   ]
  },
  {
   "cell_type": "code",
   "execution_count": null,
   "metadata": {},
   "outputs": [],
   "source": [
    "# you can easily use nilearn's masking functions to transform them \n",
    "# to an image object and save it as a nifti file\n",
    "\n",
    "# This is the provided brain mask\n",
    "bmask_dir = pjoin(\"/mnt/dataset0/ldy/datasets/THINGS_fMRI/THINGS_fMRI_brainmasks\", 'brainmasks')\n",
    "# bmask_f = pjoin(bmask_dir, f'sub-{sub}_space-T1w_brainmask.nii.gz')\n",
    "bmask_f = pjoin(bmask_dir, f'sub-01_space-T1w_brainmask.nii.gz')\n",
    "\n",
    "# use the brain mask to turn your results array into a 3D image\n",
    "results_img = unmask(results, bmask_f)\n",
    "# plot the image to verify\n",
    "g = plot_stat_map(results_img, bg_img=None, cmap='twilight', draw_cross=False, annotate=False)\n",
    "# g.add_contours(bmask_f)\n",
    "g.title('Example: Reconstructing volume from array-like data', bgcolor='white', color='black')\n",
    "# and save it as an nifti file\n",
    "results_img.to_filename('results.nii.gz')"
   ]
  },
  {
   "cell_type": "markdown",
   "metadata": {},
   "source": [
    "> 🚨 **Co-registration and volumetric space**\n",
    ">\n",
    "> The THINGS-fMRI data was preprocessed with [fmriprep](https://fmriprep.org/en/stable/), which includes co-registration of all functional images to a high-resolution anatomical MRI image. In other words, all functional data for a given subject (including the brain masks aind regions of interest) was transformed into a common \"space\", meaning that a given voxel always points to the same location in the brain - with some level of imperfection.\n",
    "> Of course, it's possible to analyze the data in a different space (e.g. MNI) by downloading the raw data and preprocessing it according to your needs."
   ]
  },
  {
   "cell_type": "markdown",
   "metadata": {},
   "source": [
    "## Cortical flat maps"
   ]
  },
  {
   "cell_type": "markdown",
   "metadata": {},
   "source": [
    "We provide flat maps for each subject for visualizing results on a flat representation of the cortical surface with `pycortex`. Provided that you saved your results as a nifti file in the same space that the volumetric data was in, you can use the flat maps and transformation matrices we prepared. Before you can get started, check out the [pycortex documentation](https://gallantlab.github.io/pycortex/) for an explanation on how to set up your installation."
   ]
  },
  {
   "cell_type": "code",
   "execution_count": null,
   "metadata": {},
   "outputs": [],
   "source": [
    "# load the results we prepared above as a volume object in pycortex\n",
    "results_data = np.swapaxes(load_img('results.nii.gz').get_fdata(), 0, -1)\n",
    "vol_data = cortex.Volume(results_data, 'S1', 'align_auto', cmap='twilight', vmin=-6, vmax=6)\n",
    "# plot with pycortex\n",
    "fig = plt.figure(figsize=(8,4))\n",
    "cortex.quickshow(\n",
    "    vol_data, pixelwise=True, nanmean=True, colorbar_location='left', with_rois=False, fig=fig,\n",
    ")\n",
    "plt.title(f'Example: Visualizing results on flat maps')\n",
    "plt.show()"
   ]
  },
  {
   "cell_type": "code",
   "execution_count": null,
   "metadata": {},
   "outputs": [],
   "source": [
    "from os.path import join as pjoin\n",
    "import glob\n",
    "import numpy as np\n",
    "import pandas as pd\n",
    "from nilearn.masking import unmask\n",
    "from nilearn.plotting import plot_stat_map\n",
    "from nilearn.image import load_img, index_img\n",
    "import matplotlib.pyplot as plt\n",
    "import cortex\n",
    "\n",
    "# Assumes you downloaded the single trial responses in table format to this directory \n",
    "betas_csv_dir = pjoin(r'/mnt/dataset0/ldy/datasets/THINGS_fMRI/THINGS_fMRI_Single_Trial_table', 'betas_csv')\n",
    "\n",
    "# and that you're interested in the data for the first subject\n",
    "sub = '01'\n",
    "\n",
    "vox_f = pjoin(betas_csv_dir, f'sub-{sub}_VoxelMetadata.csv')\n",
    "voxdata = pd.read_csv(vox_f)\n",
    "voxdata.head()"
   ]
  }
 ],
 "metadata": {
  "kernelspec": {
   "display_name": "BCI",
   "language": "python",
   "name": "python3"
  },
  "language_info": {
   "codemirror_mode": {
    "name": "ipython",
    "version": 3
   },
   "file_extension": ".py",
   "mimetype": "text/x-python",
   "name": "python",
   "nbconvert_exporter": "python",
   "pygments_lexer": "ipython3",
   "version": "3.10.8"
  }
 },
 "nbformat": 4,
 "nbformat_minor": 4
}
