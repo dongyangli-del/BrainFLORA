{
 "cells": [
  {
   "cell_type": "code",
   "execution_count": 4,
   "metadata": {},
   "outputs": [
    {
     "data": {
      "text/plain": [
       "(16540, 4, 63, 250)"
      ]
     },
     "execution_count": 4,
     "metadata": {},
     "output_type": "execute_result"
    },
    {
     "ename": "",
     "evalue": "",
     "output_type": "error",
     "traceback": [
      "\u001b[1;31m在当前单元格或上一个单元格中执行代码时 Kernel 崩溃。\n",
      "\u001b[1;31m请查看单元格中的代码，以确定故障的可能原因。\n",
      "\u001b[1;31m单击<a href='https://aka.ms/vscodeJupyterKernelCrash'>此处</a>了解详细信息。\n",
      "\u001b[1;31m有关更多详细信息，请查看 Jupyter <a href='command:jupyter.viewOutput'>log</a>。"
     ]
    }
   ],
   "source": [
    "\n",
    "import numpy as np\n",
    "\n",
    "path = \"/mnt/dataset0/ldy/datasets/THINGS_EEG/Preprocessed_data_250Hz/sub-01/preprocessed_eeg_training.npy\"\n",
    "\n",
    "\n",
    "# with open(path, 'rb') as file:\n",
    "data = np.load(path, allow_pickle=True)\n",
    "\n",
    "\n",
    "\n",
    "\n",
    "eeg_data = data['preprocessed_eeg_data']\n",
    "# ch_names = data['ch_names']\n",
    "# times = data['times']\n",
    "# meg_data.shape\n",
    "eeg_data.shape"
   ]
  },
  {
   "cell_type": "code",
   "execution_count": 3,
   "metadata": {},
   "outputs": [
    {
     "data": {
      "text/plain": [
       "(200, 80, 63, 250)"
      ]
     },
     "execution_count": 3,
     "metadata": {},
     "output_type": "execute_result"
    }
   ],
   "source": [
    "\n",
    "import numpy as np\n",
    "\n",
    "path = \"/mnt/dataset0/ldy/datasets/THINGS_EEG/Preprocessed_data_250Hz/sub-01/preprocessed_eeg_test.npy\"\n",
    "\n",
    "\n",
    "# with open(path, 'rb') as file:\n",
    "data = np.load(path, allow_pickle=True)\n",
    "\n",
    "\n",
    "\n",
    "\n",
    "eeg_data = data['preprocessed_eeg_data']\n",
    "# ch_names = data['ch_names']\n",
    "# times = data['times']\n",
    "# meg_data.shape\n",
    "eeg_data.shape"
   ]
  },
  {
   "cell_type": "code",
   "execution_count": null,
   "metadata": {},
   "outputs": [],
   "source": []
  }
 ],
 "metadata": {
  "kernelspec": {
   "display_name": "BCI",
   "language": "python",
   "name": "python3"
  },
  "language_info": {
   "codemirror_mode": {
    "name": "ipython",
    "version": 3
   },
   "file_extension": ".py",
   "mimetype": "text/x-python",
   "name": "python",
   "nbconvert_exporter": "python",
   "pygments_lexer": "ipython3",
   "version": "3.10.13"
  }
 },
 "nbformat": 4,
 "nbformat_minor": 2
}
